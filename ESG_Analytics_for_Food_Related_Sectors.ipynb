{
  "nbformat": 4,
  "nbformat_minor": 0,
  "metadata": {
    "colab": {
      "provenance": [],
      "collapsed_sections": [
        "3zwpXhwvGts5",
        "8phzkHsZnfHo",
        "yy7UDIqxRmiT"
      ],
      "include_colab_link": true
    },
    "kernelspec": {
      "name": "python3",
      "display_name": "Python 3"
    },
    "language_info": {
      "name": "python"
    }
  },
  "cells": [
    {
      "cell_type": "markdown",
      "metadata": {
        "id": "view-in-github",
        "colab_type": "text"
      },
      "source": [
        "<a href=\"https://colab.research.google.com/github/gennettezimmer/ESG_Analytics/blob/master/ESG_Analytics_for_Food_Related_Sectors.ipynb\" target=\"_parent\"><img src=\"https://colab.research.google.com/assets/colab-badge.svg\" alt=\"Open In Colab\"/></a>"
      ]
    },
    {
      "cell_type": "markdown",
      "source": [
        "# Install Packages and Mount Drives"
      ],
      "metadata": {
        "id": "1RwvWxohGAAx"
      }
    },
    {
      "cell_type": "code",
      "source": [
        "import pandas as pd\n",
        "import numpy as np\n",
        "import seaborn as sns\n",
        "import matplotlib.pyplot as plt\n",
        "import plotly.express as px\n",
        "import statistics as st\n",
        "import matplotlib.gridspec as gridspec\n",
        "\n",
        "from sklearn.linear_model import LinearRegression\n",
        "from sklearn.model_selection import train_test_split,cross_val_score,StratifiedKFold\n",
        "from sklearn.metrics import classification_report,confusion_matrix,accuracy_score\n",
        "from sklearn.linear_model import LogisticRegression\n",
        "from sklearn.tree import DecisionTreeClassifier\n",
        "from sklearn.neighbors import KNeighborsClassifier\n",
        "from sklearn.discriminant_analysis import LinearDiscriminantAnalysis\n",
        "from sklearn.naive_bayes import GaussianNB\n",
        "from sklearn.svm import SVC\n",
        "\n",
        "from scipy.stats import shapiro, pearsonr, ttest_ind, f_oneway"
      ],
      "metadata": {
        "id": "ZhEHIwM1HNmV"
      },
      "execution_count": 1,
      "outputs": []
    },
    {
      "cell_type": "code",
      "source": [
        "from google.colab import drive\n",
        "drive.mount('/content/drive')"
      ],
      "metadata": {
        "id": "lT0zI8KiHR21",
        "colab": {
          "base_uri": "https://localhost:8080/"
        },
        "outputId": "47bf4960-915d-4739-add6-f4b0e92959e0"
      },
      "execution_count": 2,
      "outputs": [
        {
          "output_type": "stream",
          "name": "stdout",
          "text": [
            "Mounted at /content/drive\n"
          ]
        }
      ]
    },
    {
      "cell_type": "code",
      "source": [
        "ESG_DATA = '/content/drive/MyDrive/Portfolio_Projects/MSCI_esg_2022.xlsx'"
      ],
      "metadata": {
        "id": "qv9mTWJhHUmZ"
      },
      "execution_count": 3,
      "outputs": []
    },
    {
      "cell_type": "code",
      "source": [
        "ESG = pd.read_excel(ESG_DATA, sheet_name=\"MSCI_esg\")\n",
        "ESG['Rating_list'] = ESG['Rating_list'].apply(str)\n",
        "ESG.drop(['Ticker'], axis=1, inplace=True)\n",
        "CC = pd.read_excel(ESG_DATA, sheet_name=\"country_codes\")\n",
        "CC.drop(['CT_3','CT_Code','ISO_Entry_3166-2','intermediate_region','region_code','sub_region_code','intermediate_region_code'], axis=1, inplace=True)\n",
        "CC.rename(columns = {'name':'Country', 'region':'Region', 'sub_region':'Sub_Region'}, inplace = True)"
      ],
      "metadata": {
        "id": "rceduLCudh8t"
      },
      "execution_count": 4,
      "outputs": []
    },
    {
      "cell_type": "code",
      "source": [
        "GDP = pd.read_excel(ESG_DATA, sheet_name=\"GDP\")\n",
        "GDP.drop(['Country'], axis=1, inplace=True)\n",
        "GDP['IMF_GDP_Year'] = GDP['IMF_GDP_Year'].apply(str)\n",
        "GDP['UN_GDP_Year'] = GDP['UN_GDP_Year'].apply(str)\n",
        "GDP['World_Bank_GDP_Year'] = GDP['World_Bank_GDP_Year'].apply(str)\n",
        "GDP['IMF_GDP_Year'] = GDP['IMF_GDP_Year'].str[:-2]\n",
        "GDP['UN_GDP_Year'] = GDP['UN_GDP_Year'].str[:-2]\n",
        "GDP['World_Bank_GDP_Year'] = GDP['World_Bank_GDP_Year'].str[:-2]"
      ],
      "metadata": {
        "id": "vfIRvm7b5OSk"
      },
      "execution_count": 5,
      "outputs": []
    },
    {
      "cell_type": "markdown",
      "source": [
        "# Exploratory Data Analysis (EDA) - Overall"
      ],
      "metadata": {
        "id": "3zwpXhwvGts5"
      }
    },
    {
      "cell_type": "code",
      "source": [
        "#Look up ESG info\n",
        "ESG.info()"
      ],
      "metadata": {
        "colab": {
          "base_uri": "https://localhost:8080/"
        },
        "id": "OeuD_x140-_q",
        "outputId": "8f78b04a-9d66-425b-f5e8-f9923719340e"
      },
      "execution_count": 6,
      "outputs": [
        {
          "output_type": "stream",
          "name": "stdout",
          "text": [
            "<class 'pandas.core.frame.DataFrame'>\n",
            "RangeIndex: 15646 entries, 0 to 15645\n",
            "Data columns (total 10 columns):\n",
            " #   Column               Non-Null Count  Dtype  \n",
            "---  ------               --------------  -----  \n",
            " 0   Company_Name         15646 non-null  object \n",
            " 1   CT_2                 15644 non-null  object \n",
            " 2   Sector               15646 non-null  object \n",
            " 3   Subsector            14860 non-null  object \n",
            " 4   Overall_ESG_RATING   15646 non-null  object \n",
            " 5   Rating_list          15646 non-null  object \n",
            " 6   Overall_ESG_SCORE    15646 non-null  float64\n",
            " 7   Environmental_SCORE  15646 non-null  float64\n",
            " 8   Social_SCORE         15646 non-null  float64\n",
            " 9   Governance_SCORE     15646 non-null  float64\n",
            "dtypes: float64(4), object(6)\n",
            "memory usage: 1.2+ MB\n"
          ]
        }
      ]
    },
    {
      "cell_type": "code",
      "source": [
        "# Fill in null subsectors with sector\n",
        "ESG['Subsector'] = np.where(ESG['Subsector'].isnull(), ESG['Sector'], ESG['Subsector'])"
      ],
      "metadata": {
        "id": "uOZS8sAlxLs_"
      },
      "execution_count": 7,
      "outputs": []
    },
    {
      "cell_type": "code",
      "source": [
        "# Find null CT_2\n",
        "ESG[ESG['CT_2'].isnull()]"
      ],
      "metadata": {
        "colab": {
          "base_uri": "https://localhost:8080/",
          "height": 228
        },
        "id": "6D5AVtCD-E3C",
        "outputId": "6baf8819-78a2-41c0-a893-f16307fbf961"
      },
      "execution_count": 8,
      "outputs": [
        {
          "output_type": "execute_result",
          "data": {
            "text/plain": [
              "                                Company_Name CT_2 Sector          Subsector  \\\n",
              "1298  First National Bank of Namibia Limited  NaN  Banks  Diversified Banks   \n",
              "5628           Standard Bank Namibia Limited  NaN  Banks  Diversified Banks   \n",
              "\n",
              "     Overall_ESG_RATING Rating_list  Overall_ESG_SCORE  Environmental_SCORE  \\\n",
              "1298                  A           3                7.0                 10.0   \n",
              "5628                 AA           2                7.9                  6.8   \n",
              "\n",
              "      Social_SCORE  Governance_SCORE  \n",
              "1298           4.6               6.4  \n",
              "5628           4.0               5.3  "
            ],
            "text/html": [
              "\n",
              "  <div id=\"df-d2ba2518-3f77-4149-ad89-2f2757507edf\">\n",
              "    <div class=\"colab-df-container\">\n",
              "      <div>\n",
              "<style scoped>\n",
              "    .dataframe tbody tr th:only-of-type {\n",
              "        vertical-align: middle;\n",
              "    }\n",
              "\n",
              "    .dataframe tbody tr th {\n",
              "        vertical-align: top;\n",
              "    }\n",
              "\n",
              "    .dataframe thead th {\n",
              "        text-align: right;\n",
              "    }\n",
              "</style>\n",
              "<table border=\"1\" class=\"dataframe\">\n",
              "  <thead>\n",
              "    <tr style=\"text-align: right;\">\n",
              "      <th></th>\n",
              "      <th>Company_Name</th>\n",
              "      <th>CT_2</th>\n",
              "      <th>Sector</th>\n",
              "      <th>Subsector</th>\n",
              "      <th>Overall_ESG_RATING</th>\n",
              "      <th>Rating_list</th>\n",
              "      <th>Overall_ESG_SCORE</th>\n",
              "      <th>Environmental_SCORE</th>\n",
              "      <th>Social_SCORE</th>\n",
              "      <th>Governance_SCORE</th>\n",
              "    </tr>\n",
              "  </thead>\n",
              "  <tbody>\n",
              "    <tr>\n",
              "      <th>1298</th>\n",
              "      <td>First National Bank of Namibia Limited</td>\n",
              "      <td>NaN</td>\n",
              "      <td>Banks</td>\n",
              "      <td>Diversified Banks</td>\n",
              "      <td>A</td>\n",
              "      <td>3</td>\n",
              "      <td>7.0</td>\n",
              "      <td>10.0</td>\n",
              "      <td>4.6</td>\n",
              "      <td>6.4</td>\n",
              "    </tr>\n",
              "    <tr>\n",
              "      <th>5628</th>\n",
              "      <td>Standard Bank Namibia Limited</td>\n",
              "      <td>NaN</td>\n",
              "      <td>Banks</td>\n",
              "      <td>Diversified Banks</td>\n",
              "      <td>AA</td>\n",
              "      <td>2</td>\n",
              "      <td>7.9</td>\n",
              "      <td>6.8</td>\n",
              "      <td>4.0</td>\n",
              "      <td>5.3</td>\n",
              "    </tr>\n",
              "  </tbody>\n",
              "</table>\n",
              "</div>\n",
              "      <button class=\"colab-df-convert\" onclick=\"convertToInteractive('df-d2ba2518-3f77-4149-ad89-2f2757507edf')\"\n",
              "              title=\"Convert this dataframe to an interactive table.\"\n",
              "              style=\"display:none;\">\n",
              "        \n",
              "  <svg xmlns=\"http://www.w3.org/2000/svg\" height=\"24px\"viewBox=\"0 0 24 24\"\n",
              "       width=\"24px\">\n",
              "    <path d=\"M0 0h24v24H0V0z\" fill=\"none\"/>\n",
              "    <path d=\"M18.56 5.44l.94 2.06.94-2.06 2.06-.94-2.06-.94-.94-2.06-.94 2.06-2.06.94zm-11 1L8.5 8.5l.94-2.06 2.06-.94-2.06-.94L8.5 2.5l-.94 2.06-2.06.94zm10 10l.94 2.06.94-2.06 2.06-.94-2.06-.94-.94-2.06-.94 2.06-2.06.94z\"/><path d=\"M17.41 7.96l-1.37-1.37c-.4-.4-.92-.59-1.43-.59-.52 0-1.04.2-1.43.59L10.3 9.45l-7.72 7.72c-.78.78-.78 2.05 0 2.83L4 21.41c.39.39.9.59 1.41.59.51 0 1.02-.2 1.41-.59l7.78-7.78 2.81-2.81c.8-.78.8-2.07 0-2.86zM5.41 20L4 18.59l7.72-7.72 1.47 1.35L5.41 20z\"/>\n",
              "  </svg>\n",
              "      </button>\n",
              "      \n",
              "  <style>\n",
              "    .colab-df-container {\n",
              "      display:flex;\n",
              "      flex-wrap:wrap;\n",
              "      gap: 12px;\n",
              "    }\n",
              "\n",
              "    .colab-df-convert {\n",
              "      background-color: #E8F0FE;\n",
              "      border: none;\n",
              "      border-radius: 50%;\n",
              "      cursor: pointer;\n",
              "      display: none;\n",
              "      fill: #1967D2;\n",
              "      height: 32px;\n",
              "      padding: 0 0 0 0;\n",
              "      width: 32px;\n",
              "    }\n",
              "\n",
              "    .colab-df-convert:hover {\n",
              "      background-color: #E2EBFA;\n",
              "      box-shadow: 0px 1px 2px rgba(60, 64, 67, 0.3), 0px 1px 3px 1px rgba(60, 64, 67, 0.15);\n",
              "      fill: #174EA6;\n",
              "    }\n",
              "\n",
              "    [theme=dark] .colab-df-convert {\n",
              "      background-color: #3B4455;\n",
              "      fill: #D2E3FC;\n",
              "    }\n",
              "\n",
              "    [theme=dark] .colab-df-convert:hover {\n",
              "      background-color: #434B5C;\n",
              "      box-shadow: 0px 1px 3px 1px rgba(0, 0, 0, 0.15);\n",
              "      filter: drop-shadow(0px 1px 2px rgba(0, 0, 0, 0.3));\n",
              "      fill: #FFFFFF;\n",
              "    }\n",
              "  </style>\n",
              "\n",
              "      <script>\n",
              "        const buttonEl =\n",
              "          document.querySelector('#df-d2ba2518-3f77-4149-ad89-2f2757507edf button.colab-df-convert');\n",
              "        buttonEl.style.display =\n",
              "          google.colab.kernel.accessAllowed ? 'block' : 'none';\n",
              "\n",
              "        async function convertToInteractive(key) {\n",
              "          const element = document.querySelector('#df-d2ba2518-3f77-4149-ad89-2f2757507edf');\n",
              "          const dataTable =\n",
              "            await google.colab.kernel.invokeFunction('convertToInteractive',\n",
              "                                                     [key], {});\n",
              "          if (!dataTable) return;\n",
              "\n",
              "          const docLinkHtml = 'Like what you see? Visit the ' +\n",
              "            '<a target=\"_blank\" href=https://colab.research.google.com/notebooks/data_table.ipynb>data table notebook</a>'\n",
              "            + ' to learn more about interactive tables.';\n",
              "          element.innerHTML = '';\n",
              "          dataTable['output_type'] = 'display_data';\n",
              "          await google.colab.output.renderOutput(dataTable, element);\n",
              "          const docLink = document.createElement('div');\n",
              "          docLink.innerHTML = docLinkHtml;\n",
              "          element.appendChild(docLink);\n",
              "        }\n",
              "      </script>\n",
              "    </div>\n",
              "  </div>\n",
              "  "
            ]
          },
          "metadata": {},
          "execution_count": 8
        }
      ]
    },
    {
      "cell_type": "code",
      "source": [
        "# Remove both rows for banks in Namibia\n",
        "ESG = ESG.loc[ESG['Company_Name'] != \"First National Bank of Namibia Limited\"]\n",
        "ESG = ESG.loc[ESG['Company_Name'] != \"Standard Bank Namibia Limited\"]"
      ],
      "metadata": {
        "id": "uIgyAAhv-QGm"
      },
      "execution_count": 9,
      "outputs": []
    },
    {
      "cell_type": "code",
      "source": [
        "# Confirm ESG null rows are deleted\n",
        "ESG.info()"
      ],
      "metadata": {
        "colab": {
          "base_uri": "https://localhost:8080/"
        },
        "id": "JWTCO8vNI1GP",
        "outputId": "3ef9ef46-f9c0-46d7-c057-6f634db2a7bf"
      },
      "execution_count": 10,
      "outputs": [
        {
          "output_type": "stream",
          "name": "stdout",
          "text": [
            "<class 'pandas.core.frame.DataFrame'>\n",
            "Int64Index: 15644 entries, 0 to 15645\n",
            "Data columns (total 10 columns):\n",
            " #   Column               Non-Null Count  Dtype  \n",
            "---  ------               --------------  -----  \n",
            " 0   Company_Name         15644 non-null  object \n",
            " 1   CT_2                 15644 non-null  object \n",
            " 2   Sector               15644 non-null  object \n",
            " 3   Subsector            15644 non-null  object \n",
            " 4   Overall_ESG_RATING   15644 non-null  object \n",
            " 5   Rating_list          15644 non-null  object \n",
            " 6   Overall_ESG_SCORE    15644 non-null  float64\n",
            " 7   Environmental_SCORE  15644 non-null  float64\n",
            " 8   Social_SCORE         15644 non-null  float64\n",
            " 9   Governance_SCORE     15644 non-null  float64\n",
            "dtypes: float64(4), object(6)\n",
            "memory usage: 1.3+ MB\n"
          ]
        }
      ]
    },
    {
      "cell_type": "code",
      "source": [
        "# Get info for country code\n",
        "CC.info()"
      ],
      "metadata": {
        "colab": {
          "base_uri": "https://localhost:8080/"
        },
        "id": "1pxYv6MgANU9",
        "outputId": "9da51b51-cc22-4b43-9cfb-967832fa24e1"
      },
      "execution_count": 11,
      "outputs": [
        {
          "output_type": "stream",
          "name": "stdout",
          "text": [
            "<class 'pandas.core.frame.DataFrame'>\n",
            "RangeIndex: 249 entries, 0 to 248\n",
            "Data columns (total 11 columns):\n",
            " #   Column      Non-Null Count  Dtype  \n",
            "---  ------      --------------  -----  \n",
            " 0   Country     249 non-null    object \n",
            " 1   CT_2        248 non-null    object \n",
            " 2   Region      248 non-null    object \n",
            " 3   Sub_Region  248 non-null    object \n",
            " 4   EU          26 non-null     float64\n",
            " 5   G20         42 non-null     float64\n",
            " 6   OPEC        14 non-null     float64\n",
            " 7   WTO         163 non-null    float64\n",
            " 8   PA          194 non-null    float64\n",
            " 9   UN          193 non-null    float64\n",
            " 10  NATO        30 non-null     float64\n",
            "dtypes: float64(7), object(4)\n",
            "memory usage: 21.5+ KB\n"
          ]
        }
      ]
    },
    {
      "cell_type": "code",
      "source": [
        "# Fill NA's for affiliation groups\n",
        "CC['EU'] = CC['EU'].fillna(0)\n",
        "CC['G20'] = CC['G20'].fillna(0)\n",
        "CC['OPEC'] = CC['OPEC'].fillna(0)\n",
        "CC['WTO'] = CC['WTO'].fillna(0)\n",
        "CC['PA'] = CC['PA'].fillna(0)\n",
        "CC['UN'] = CC['UN'].fillna(0)\n",
        "CC['NATO'] = CC['NATO'].fillna(0)"
      ],
      "metadata": {
        "id": "1kFtOqqpxMuY"
      },
      "execution_count": 12,
      "outputs": []
    },
    {
      "cell_type": "code",
      "source": [
        "# Locate null CT value\n",
        "CC[CC['CT_2'].isnull()]"
      ],
      "metadata": {
        "colab": {
          "base_uri": "https://localhost:8080/",
          "height": 162
        },
        "id": "l-2fmdeEAuhr",
        "outputId": "44c612e9-57bc-40d8-c44b-e24907436808"
      },
      "execution_count": 13,
      "outputs": [
        {
          "output_type": "execute_result",
          "data": {
            "text/plain": [
              "     Country CT_2  Region          Sub_Region   EU  G20  OPEC  WTO   PA   UN  \\\n",
              "151  Namibia  NaN  Africa  Sub-Saharan Africa  0.0  0.0   0.0  1.0  1.0  1.0   \n",
              "\n",
              "     NATO  \n",
              "151   0.0  "
            ],
            "text/html": [
              "\n",
              "  <div id=\"df-45be843d-cd11-4129-9b7e-926c7e98153b\">\n",
              "    <div class=\"colab-df-container\">\n",
              "      <div>\n",
              "<style scoped>\n",
              "    .dataframe tbody tr th:only-of-type {\n",
              "        vertical-align: middle;\n",
              "    }\n",
              "\n",
              "    .dataframe tbody tr th {\n",
              "        vertical-align: top;\n",
              "    }\n",
              "\n",
              "    .dataframe thead th {\n",
              "        text-align: right;\n",
              "    }\n",
              "</style>\n",
              "<table border=\"1\" class=\"dataframe\">\n",
              "  <thead>\n",
              "    <tr style=\"text-align: right;\">\n",
              "      <th></th>\n",
              "      <th>Country</th>\n",
              "      <th>CT_2</th>\n",
              "      <th>Region</th>\n",
              "      <th>Sub_Region</th>\n",
              "      <th>EU</th>\n",
              "      <th>G20</th>\n",
              "      <th>OPEC</th>\n",
              "      <th>WTO</th>\n",
              "      <th>PA</th>\n",
              "      <th>UN</th>\n",
              "      <th>NATO</th>\n",
              "    </tr>\n",
              "  </thead>\n",
              "  <tbody>\n",
              "    <tr>\n",
              "      <th>151</th>\n",
              "      <td>Namibia</td>\n",
              "      <td>NaN</td>\n",
              "      <td>Africa</td>\n",
              "      <td>Sub-Saharan Africa</td>\n",
              "      <td>0.0</td>\n",
              "      <td>0.0</td>\n",
              "      <td>0.0</td>\n",
              "      <td>1.0</td>\n",
              "      <td>1.0</td>\n",
              "      <td>1.0</td>\n",
              "      <td>0.0</td>\n",
              "    </tr>\n",
              "  </tbody>\n",
              "</table>\n",
              "</div>\n",
              "      <button class=\"colab-df-convert\" onclick=\"convertToInteractive('df-45be843d-cd11-4129-9b7e-926c7e98153b')\"\n",
              "              title=\"Convert this dataframe to an interactive table.\"\n",
              "              style=\"display:none;\">\n",
              "        \n",
              "  <svg xmlns=\"http://www.w3.org/2000/svg\" height=\"24px\"viewBox=\"0 0 24 24\"\n",
              "       width=\"24px\">\n",
              "    <path d=\"M0 0h24v24H0V0z\" fill=\"none\"/>\n",
              "    <path d=\"M18.56 5.44l.94 2.06.94-2.06 2.06-.94-2.06-.94-.94-2.06-.94 2.06-2.06.94zm-11 1L8.5 8.5l.94-2.06 2.06-.94-2.06-.94L8.5 2.5l-.94 2.06-2.06.94zm10 10l.94 2.06.94-2.06 2.06-.94-2.06-.94-.94-2.06-.94 2.06-2.06.94z\"/><path d=\"M17.41 7.96l-1.37-1.37c-.4-.4-.92-.59-1.43-.59-.52 0-1.04.2-1.43.59L10.3 9.45l-7.72 7.72c-.78.78-.78 2.05 0 2.83L4 21.41c.39.39.9.59 1.41.59.51 0 1.02-.2 1.41-.59l7.78-7.78 2.81-2.81c.8-.78.8-2.07 0-2.86zM5.41 20L4 18.59l7.72-7.72 1.47 1.35L5.41 20z\"/>\n",
              "  </svg>\n",
              "      </button>\n",
              "      \n",
              "  <style>\n",
              "    .colab-df-container {\n",
              "      display:flex;\n",
              "      flex-wrap:wrap;\n",
              "      gap: 12px;\n",
              "    }\n",
              "\n",
              "    .colab-df-convert {\n",
              "      background-color: #E8F0FE;\n",
              "      border: none;\n",
              "      border-radius: 50%;\n",
              "      cursor: pointer;\n",
              "      display: none;\n",
              "      fill: #1967D2;\n",
              "      height: 32px;\n",
              "      padding: 0 0 0 0;\n",
              "      width: 32px;\n",
              "    }\n",
              "\n",
              "    .colab-df-convert:hover {\n",
              "      background-color: #E2EBFA;\n",
              "      box-shadow: 0px 1px 2px rgba(60, 64, 67, 0.3), 0px 1px 3px 1px rgba(60, 64, 67, 0.15);\n",
              "      fill: #174EA6;\n",
              "    }\n",
              "\n",
              "    [theme=dark] .colab-df-convert {\n",
              "      background-color: #3B4455;\n",
              "      fill: #D2E3FC;\n",
              "    }\n",
              "\n",
              "    [theme=dark] .colab-df-convert:hover {\n",
              "      background-color: #434B5C;\n",
              "      box-shadow: 0px 1px 3px 1px rgba(0, 0, 0, 0.15);\n",
              "      filter: drop-shadow(0px 1px 2px rgba(0, 0, 0, 0.3));\n",
              "      fill: #FFFFFF;\n",
              "    }\n",
              "  </style>\n",
              "\n",
              "      <script>\n",
              "        const buttonEl =\n",
              "          document.querySelector('#df-45be843d-cd11-4129-9b7e-926c7e98153b button.colab-df-convert');\n",
              "        buttonEl.style.display =\n",
              "          google.colab.kernel.accessAllowed ? 'block' : 'none';\n",
              "\n",
              "        async function convertToInteractive(key) {\n",
              "          const element = document.querySelector('#df-45be843d-cd11-4129-9b7e-926c7e98153b');\n",
              "          const dataTable =\n",
              "            await google.colab.kernel.invokeFunction('convertToInteractive',\n",
              "                                                     [key], {});\n",
              "          if (!dataTable) return;\n",
              "\n",
              "          const docLinkHtml = 'Like what you see? Visit the ' +\n",
              "            '<a target=\"_blank\" href=https://colab.research.google.com/notebooks/data_table.ipynb>data table notebook</a>'\n",
              "            + ' to learn more about interactive tables.';\n",
              "          element.innerHTML = '';\n",
              "          dataTable['output_type'] = 'display_data';\n",
              "          await google.colab.output.renderOutput(dataTable, element);\n",
              "          const docLink = document.createElement('div');\n",
              "          docLink.innerHTML = docLinkHtml;\n",
              "          element.appendChild(docLink);\n",
              "        }\n",
              "      </script>\n",
              "    </div>\n",
              "  </div>\n",
              "  "
            ]
          },
          "metadata": {},
          "execution_count": 13
        }
      ]
    },
    {
      "cell_type": "code",
      "source": [
        "# Remove null row for Namibia\n",
        "CC = CC.loc[CC['Country'] != \"Namibia\"]"
      ],
      "metadata": {
        "id": "_08U_5F1A71n"
      },
      "execution_count": 14,
      "outputs": []
    },
    {
      "cell_type": "code",
      "source": [
        "# Locate null region value\n",
        "CC[CC['Region'].isnull()]"
      ],
      "metadata": {
        "colab": {
          "base_uri": "https://localhost:8080/",
          "height": 144
        },
        "id": "jaVIJn4XBMIc",
        "outputId": "93e36b36-0378-4b17-d675-39c59a1ff7a7"
      },
      "execution_count": 15,
      "outputs": [
        {
          "output_type": "execute_result",
          "data": {
            "text/plain": [
              "      Country CT_2 Region Sub_Region   EU  G20  OPEC  WTO   PA   UN  NATO\n",
              "8  Antarctica   AQ    NaN        NaN  0.0  0.0   0.0  0.0  0.0  0.0   0.0"
            ],
            "text/html": [
              "\n",
              "  <div id=\"df-b2549c4e-1981-4328-88dc-657d4aca5bc5\">\n",
              "    <div class=\"colab-df-container\">\n",
              "      <div>\n",
              "<style scoped>\n",
              "    .dataframe tbody tr th:only-of-type {\n",
              "        vertical-align: middle;\n",
              "    }\n",
              "\n",
              "    .dataframe tbody tr th {\n",
              "        vertical-align: top;\n",
              "    }\n",
              "\n",
              "    .dataframe thead th {\n",
              "        text-align: right;\n",
              "    }\n",
              "</style>\n",
              "<table border=\"1\" class=\"dataframe\">\n",
              "  <thead>\n",
              "    <tr style=\"text-align: right;\">\n",
              "      <th></th>\n",
              "      <th>Country</th>\n",
              "      <th>CT_2</th>\n",
              "      <th>Region</th>\n",
              "      <th>Sub_Region</th>\n",
              "      <th>EU</th>\n",
              "      <th>G20</th>\n",
              "      <th>OPEC</th>\n",
              "      <th>WTO</th>\n",
              "      <th>PA</th>\n",
              "      <th>UN</th>\n",
              "      <th>NATO</th>\n",
              "    </tr>\n",
              "  </thead>\n",
              "  <tbody>\n",
              "    <tr>\n",
              "      <th>8</th>\n",
              "      <td>Antarctica</td>\n",
              "      <td>AQ</td>\n",
              "      <td>NaN</td>\n",
              "      <td>NaN</td>\n",
              "      <td>0.0</td>\n",
              "      <td>0.0</td>\n",
              "      <td>0.0</td>\n",
              "      <td>0.0</td>\n",
              "      <td>0.0</td>\n",
              "      <td>0.0</td>\n",
              "      <td>0.0</td>\n",
              "    </tr>\n",
              "  </tbody>\n",
              "</table>\n",
              "</div>\n",
              "      <button class=\"colab-df-convert\" onclick=\"convertToInteractive('df-b2549c4e-1981-4328-88dc-657d4aca5bc5')\"\n",
              "              title=\"Convert this dataframe to an interactive table.\"\n",
              "              style=\"display:none;\">\n",
              "        \n",
              "  <svg xmlns=\"http://www.w3.org/2000/svg\" height=\"24px\"viewBox=\"0 0 24 24\"\n",
              "       width=\"24px\">\n",
              "    <path d=\"M0 0h24v24H0V0z\" fill=\"none\"/>\n",
              "    <path d=\"M18.56 5.44l.94 2.06.94-2.06 2.06-.94-2.06-.94-.94-2.06-.94 2.06-2.06.94zm-11 1L8.5 8.5l.94-2.06 2.06-.94-2.06-.94L8.5 2.5l-.94 2.06-2.06.94zm10 10l.94 2.06.94-2.06 2.06-.94-2.06-.94-.94-2.06-.94 2.06-2.06.94z\"/><path d=\"M17.41 7.96l-1.37-1.37c-.4-.4-.92-.59-1.43-.59-.52 0-1.04.2-1.43.59L10.3 9.45l-7.72 7.72c-.78.78-.78 2.05 0 2.83L4 21.41c.39.39.9.59 1.41.59.51 0 1.02-.2 1.41-.59l7.78-7.78 2.81-2.81c.8-.78.8-2.07 0-2.86zM5.41 20L4 18.59l7.72-7.72 1.47 1.35L5.41 20z\"/>\n",
              "  </svg>\n",
              "      </button>\n",
              "      \n",
              "  <style>\n",
              "    .colab-df-container {\n",
              "      display:flex;\n",
              "      flex-wrap:wrap;\n",
              "      gap: 12px;\n",
              "    }\n",
              "\n",
              "    .colab-df-convert {\n",
              "      background-color: #E8F0FE;\n",
              "      border: none;\n",
              "      border-radius: 50%;\n",
              "      cursor: pointer;\n",
              "      display: none;\n",
              "      fill: #1967D2;\n",
              "      height: 32px;\n",
              "      padding: 0 0 0 0;\n",
              "      width: 32px;\n",
              "    }\n",
              "\n",
              "    .colab-df-convert:hover {\n",
              "      background-color: #E2EBFA;\n",
              "      box-shadow: 0px 1px 2px rgba(60, 64, 67, 0.3), 0px 1px 3px 1px rgba(60, 64, 67, 0.15);\n",
              "      fill: #174EA6;\n",
              "    }\n",
              "\n",
              "    [theme=dark] .colab-df-convert {\n",
              "      background-color: #3B4455;\n",
              "      fill: #D2E3FC;\n",
              "    }\n",
              "\n",
              "    [theme=dark] .colab-df-convert:hover {\n",
              "      background-color: #434B5C;\n",
              "      box-shadow: 0px 1px 3px 1px rgba(0, 0, 0, 0.15);\n",
              "      filter: drop-shadow(0px 1px 2px rgba(0, 0, 0, 0.3));\n",
              "      fill: #FFFFFF;\n",
              "    }\n",
              "  </style>\n",
              "\n",
              "      <script>\n",
              "        const buttonEl =\n",
              "          document.querySelector('#df-b2549c4e-1981-4328-88dc-657d4aca5bc5 button.colab-df-convert');\n",
              "        buttonEl.style.display =\n",
              "          google.colab.kernel.accessAllowed ? 'block' : 'none';\n",
              "\n",
              "        async function convertToInteractive(key) {\n",
              "          const element = document.querySelector('#df-b2549c4e-1981-4328-88dc-657d4aca5bc5');\n",
              "          const dataTable =\n",
              "            await google.colab.kernel.invokeFunction('convertToInteractive',\n",
              "                                                     [key], {});\n",
              "          if (!dataTable) return;\n",
              "\n",
              "          const docLinkHtml = 'Like what you see? Visit the ' +\n",
              "            '<a target=\"_blank\" href=https://colab.research.google.com/notebooks/data_table.ipynb>data table notebook</a>'\n",
              "            + ' to learn more about interactive tables.';\n",
              "          element.innerHTML = '';\n",
              "          dataTable['output_type'] = 'display_data';\n",
              "          await google.colab.output.renderOutput(dataTable, element);\n",
              "          const docLink = document.createElement('div');\n",
              "          docLink.innerHTML = docLinkHtml;\n",
              "          element.appendChild(docLink);\n",
              "        }\n",
              "      </script>\n",
              "    </div>\n",
              "  </div>\n",
              "  "
            ]
          },
          "metadata": {},
          "execution_count": 15
        }
      ]
    },
    {
      "cell_type": "code",
      "source": [
        "# Locate null sub-region value\n",
        "CC[CC['Sub_Region'].isnull()]"
      ],
      "metadata": {
        "colab": {
          "base_uri": "https://localhost:8080/",
          "height": 144
        },
        "id": "ajitmKMNBL32",
        "outputId": "9da71fc0-cfb2-4040-b97e-8e4124310942"
      },
      "execution_count": 16,
      "outputs": [
        {
          "output_type": "execute_result",
          "data": {
            "text/plain": [
              "      Country CT_2 Region Sub_Region   EU  G20  OPEC  WTO   PA   UN  NATO\n",
              "8  Antarctica   AQ    NaN        NaN  0.0  0.0   0.0  0.0  0.0  0.0   0.0"
            ],
            "text/html": [
              "\n",
              "  <div id=\"df-cd7aeff7-e083-47fd-80cb-28d0b2e7e757\">\n",
              "    <div class=\"colab-df-container\">\n",
              "      <div>\n",
              "<style scoped>\n",
              "    .dataframe tbody tr th:only-of-type {\n",
              "        vertical-align: middle;\n",
              "    }\n",
              "\n",
              "    .dataframe tbody tr th {\n",
              "        vertical-align: top;\n",
              "    }\n",
              "\n",
              "    .dataframe thead th {\n",
              "        text-align: right;\n",
              "    }\n",
              "</style>\n",
              "<table border=\"1\" class=\"dataframe\">\n",
              "  <thead>\n",
              "    <tr style=\"text-align: right;\">\n",
              "      <th></th>\n",
              "      <th>Country</th>\n",
              "      <th>CT_2</th>\n",
              "      <th>Region</th>\n",
              "      <th>Sub_Region</th>\n",
              "      <th>EU</th>\n",
              "      <th>G20</th>\n",
              "      <th>OPEC</th>\n",
              "      <th>WTO</th>\n",
              "      <th>PA</th>\n",
              "      <th>UN</th>\n",
              "      <th>NATO</th>\n",
              "    </tr>\n",
              "  </thead>\n",
              "  <tbody>\n",
              "    <tr>\n",
              "      <th>8</th>\n",
              "      <td>Antarctica</td>\n",
              "      <td>AQ</td>\n",
              "      <td>NaN</td>\n",
              "      <td>NaN</td>\n",
              "      <td>0.0</td>\n",
              "      <td>0.0</td>\n",
              "      <td>0.0</td>\n",
              "      <td>0.0</td>\n",
              "      <td>0.0</td>\n",
              "      <td>0.0</td>\n",
              "      <td>0.0</td>\n",
              "    </tr>\n",
              "  </tbody>\n",
              "</table>\n",
              "</div>\n",
              "      <button class=\"colab-df-convert\" onclick=\"convertToInteractive('df-cd7aeff7-e083-47fd-80cb-28d0b2e7e757')\"\n",
              "              title=\"Convert this dataframe to an interactive table.\"\n",
              "              style=\"display:none;\">\n",
              "        \n",
              "  <svg xmlns=\"http://www.w3.org/2000/svg\" height=\"24px\"viewBox=\"0 0 24 24\"\n",
              "       width=\"24px\">\n",
              "    <path d=\"M0 0h24v24H0V0z\" fill=\"none\"/>\n",
              "    <path d=\"M18.56 5.44l.94 2.06.94-2.06 2.06-.94-2.06-.94-.94-2.06-.94 2.06-2.06.94zm-11 1L8.5 8.5l.94-2.06 2.06-.94-2.06-.94L8.5 2.5l-.94 2.06-2.06.94zm10 10l.94 2.06.94-2.06 2.06-.94-2.06-.94-.94-2.06-.94 2.06-2.06.94z\"/><path d=\"M17.41 7.96l-1.37-1.37c-.4-.4-.92-.59-1.43-.59-.52 0-1.04.2-1.43.59L10.3 9.45l-7.72 7.72c-.78.78-.78 2.05 0 2.83L4 21.41c.39.39.9.59 1.41.59.51 0 1.02-.2 1.41-.59l7.78-7.78 2.81-2.81c.8-.78.8-2.07 0-2.86zM5.41 20L4 18.59l7.72-7.72 1.47 1.35L5.41 20z\"/>\n",
              "  </svg>\n",
              "      </button>\n",
              "      \n",
              "  <style>\n",
              "    .colab-df-container {\n",
              "      display:flex;\n",
              "      flex-wrap:wrap;\n",
              "      gap: 12px;\n",
              "    }\n",
              "\n",
              "    .colab-df-convert {\n",
              "      background-color: #E8F0FE;\n",
              "      border: none;\n",
              "      border-radius: 50%;\n",
              "      cursor: pointer;\n",
              "      display: none;\n",
              "      fill: #1967D2;\n",
              "      height: 32px;\n",
              "      padding: 0 0 0 0;\n",
              "      width: 32px;\n",
              "    }\n",
              "\n",
              "    .colab-df-convert:hover {\n",
              "      background-color: #E2EBFA;\n",
              "      box-shadow: 0px 1px 2px rgba(60, 64, 67, 0.3), 0px 1px 3px 1px rgba(60, 64, 67, 0.15);\n",
              "      fill: #174EA6;\n",
              "    }\n",
              "\n",
              "    [theme=dark] .colab-df-convert {\n",
              "      background-color: #3B4455;\n",
              "      fill: #D2E3FC;\n",
              "    }\n",
              "\n",
              "    [theme=dark] .colab-df-convert:hover {\n",
              "      background-color: #434B5C;\n",
              "      box-shadow: 0px 1px 3px 1px rgba(0, 0, 0, 0.15);\n",
              "      filter: drop-shadow(0px 1px 2px rgba(0, 0, 0, 0.3));\n",
              "      fill: #FFFFFF;\n",
              "    }\n",
              "  </style>\n",
              "\n",
              "      <script>\n",
              "        const buttonEl =\n",
              "          document.querySelector('#df-cd7aeff7-e083-47fd-80cb-28d0b2e7e757 button.colab-df-convert');\n",
              "        buttonEl.style.display =\n",
              "          google.colab.kernel.accessAllowed ? 'block' : 'none';\n",
              "\n",
              "        async function convertToInteractive(key) {\n",
              "          const element = document.querySelector('#df-cd7aeff7-e083-47fd-80cb-28d0b2e7e757');\n",
              "          const dataTable =\n",
              "            await google.colab.kernel.invokeFunction('convertToInteractive',\n",
              "                                                     [key], {});\n",
              "          if (!dataTable) return;\n",
              "\n",
              "          const docLinkHtml = 'Like what you see? Visit the ' +\n",
              "            '<a target=\"_blank\" href=https://colab.research.google.com/notebooks/data_table.ipynb>data table notebook</a>'\n",
              "            + ' to learn more about interactive tables.';\n",
              "          element.innerHTML = '';\n",
              "          dataTable['output_type'] = 'display_data';\n",
              "          await google.colab.output.renderOutput(dataTable, element);\n",
              "          const docLink = document.createElement('div');\n",
              "          docLink.innerHTML = docLinkHtml;\n",
              "          element.appendChild(docLink);\n",
              "        }\n",
              "      </script>\n",
              "    </div>\n",
              "  </div>\n",
              "  "
            ]
          },
          "metadata": {},
          "execution_count": 16
        }
      ]
    },
    {
      "cell_type": "code",
      "source": [
        "# Remove null row for Antarctica\n",
        "CC = CC.loc[CC['Country'] != \"Antarctica\"]"
      ],
      "metadata": {
        "id": "BUQMJSr5Ba_H"
      },
      "execution_count": 17,
      "outputs": []
    },
    {
      "cell_type": "code",
      "source": [
        "# Review info for country code\n",
        "CC.info()"
      ],
      "metadata": {
        "colab": {
          "base_uri": "https://localhost:8080/"
        },
        "id": "FhWCaV6aAkQY",
        "outputId": "1480067e-dea3-45b5-a856-68ef96dc4a58"
      },
      "execution_count": 18,
      "outputs": [
        {
          "output_type": "stream",
          "name": "stdout",
          "text": [
            "<class 'pandas.core.frame.DataFrame'>\n",
            "Int64Index: 247 entries, 0 to 248\n",
            "Data columns (total 11 columns):\n",
            " #   Column      Non-Null Count  Dtype  \n",
            "---  ------      --------------  -----  \n",
            " 0   Country     247 non-null    object \n",
            " 1   CT_2        247 non-null    object \n",
            " 2   Region      247 non-null    object \n",
            " 3   Sub_Region  247 non-null    object \n",
            " 4   EU          247 non-null    float64\n",
            " 5   G20         247 non-null    float64\n",
            " 6   OPEC        247 non-null    float64\n",
            " 7   WTO         247 non-null    float64\n",
            " 8   PA          247 non-null    float64\n",
            " 9   UN          247 non-null    float64\n",
            " 10  NATO        247 non-null    float64\n",
            "dtypes: float64(7), object(4)\n",
            "memory usage: 23.2+ KB\n"
          ]
        }
      ]
    },
    {
      "cell_type": "code",
      "source": [
        "ESG.head(2)"
      ],
      "metadata": {
        "colab": {
          "base_uri": "https://localhost:8080/",
          "height": 263
        },
        "id": "HHTm_eWoynXw",
        "outputId": "49066cce-2242-4622-b96b-9a9e2a72e530"
      },
      "execution_count": 19,
      "outputs": [
        {
          "output_type": "execute_result",
          "data": {
            "text/plain": [
              "      Company_Name CT_2                                            Sector  \\\n",
              "0   0921706 BC LTD   CA                        Telecommunication Services   \n",
              "1  1000 AUAHI, LLC   US  Real Estate Development & Diversified Activities   \n",
              "\n",
              "                             Subsector Overall_ESG_RATING Rating_list  \\\n",
              "0  Wireless Telecommunication Services                  A           3   \n",
              "1              Real Estate Development                  A           3   \n",
              "\n",
              "   Overall_ESG_SCORE  Environmental_SCORE  Social_SCORE  Governance_SCORE  \n",
              "0                6.6                 10.0           7.4               2.7  \n",
              "1                6.8                  6.1           4.1               6.9  "
            ],
            "text/html": [
              "\n",
              "  <div id=\"df-47ce73aa-9d79-435e-a747-968da49d7ecb\">\n",
              "    <div class=\"colab-df-container\">\n",
              "      <div>\n",
              "<style scoped>\n",
              "    .dataframe tbody tr th:only-of-type {\n",
              "        vertical-align: middle;\n",
              "    }\n",
              "\n",
              "    .dataframe tbody tr th {\n",
              "        vertical-align: top;\n",
              "    }\n",
              "\n",
              "    .dataframe thead th {\n",
              "        text-align: right;\n",
              "    }\n",
              "</style>\n",
              "<table border=\"1\" class=\"dataframe\">\n",
              "  <thead>\n",
              "    <tr style=\"text-align: right;\">\n",
              "      <th></th>\n",
              "      <th>Company_Name</th>\n",
              "      <th>CT_2</th>\n",
              "      <th>Sector</th>\n",
              "      <th>Subsector</th>\n",
              "      <th>Overall_ESG_RATING</th>\n",
              "      <th>Rating_list</th>\n",
              "      <th>Overall_ESG_SCORE</th>\n",
              "      <th>Environmental_SCORE</th>\n",
              "      <th>Social_SCORE</th>\n",
              "      <th>Governance_SCORE</th>\n",
              "    </tr>\n",
              "  </thead>\n",
              "  <tbody>\n",
              "    <tr>\n",
              "      <th>0</th>\n",
              "      <td>0921706 BC LTD</td>\n",
              "      <td>CA</td>\n",
              "      <td>Telecommunication Services</td>\n",
              "      <td>Wireless Telecommunication Services</td>\n",
              "      <td>A</td>\n",
              "      <td>3</td>\n",
              "      <td>6.6</td>\n",
              "      <td>10.0</td>\n",
              "      <td>7.4</td>\n",
              "      <td>2.7</td>\n",
              "    </tr>\n",
              "    <tr>\n",
              "      <th>1</th>\n",
              "      <td>1000 AUAHI, LLC</td>\n",
              "      <td>US</td>\n",
              "      <td>Real Estate Development &amp; Diversified Activities</td>\n",
              "      <td>Real Estate Development</td>\n",
              "      <td>A</td>\n",
              "      <td>3</td>\n",
              "      <td>6.8</td>\n",
              "      <td>6.1</td>\n",
              "      <td>4.1</td>\n",
              "      <td>6.9</td>\n",
              "    </tr>\n",
              "  </tbody>\n",
              "</table>\n",
              "</div>\n",
              "      <button class=\"colab-df-convert\" onclick=\"convertToInteractive('df-47ce73aa-9d79-435e-a747-968da49d7ecb')\"\n",
              "              title=\"Convert this dataframe to an interactive table.\"\n",
              "              style=\"display:none;\">\n",
              "        \n",
              "  <svg xmlns=\"http://www.w3.org/2000/svg\" height=\"24px\"viewBox=\"0 0 24 24\"\n",
              "       width=\"24px\">\n",
              "    <path d=\"M0 0h24v24H0V0z\" fill=\"none\"/>\n",
              "    <path d=\"M18.56 5.44l.94 2.06.94-2.06 2.06-.94-2.06-.94-.94-2.06-.94 2.06-2.06.94zm-11 1L8.5 8.5l.94-2.06 2.06-.94-2.06-.94L8.5 2.5l-.94 2.06-2.06.94zm10 10l.94 2.06.94-2.06 2.06-.94-2.06-.94-.94-2.06-.94 2.06-2.06.94z\"/><path d=\"M17.41 7.96l-1.37-1.37c-.4-.4-.92-.59-1.43-.59-.52 0-1.04.2-1.43.59L10.3 9.45l-7.72 7.72c-.78.78-.78 2.05 0 2.83L4 21.41c.39.39.9.59 1.41.59.51 0 1.02-.2 1.41-.59l7.78-7.78 2.81-2.81c.8-.78.8-2.07 0-2.86zM5.41 20L4 18.59l7.72-7.72 1.47 1.35L5.41 20z\"/>\n",
              "  </svg>\n",
              "      </button>\n",
              "      \n",
              "  <style>\n",
              "    .colab-df-container {\n",
              "      display:flex;\n",
              "      flex-wrap:wrap;\n",
              "      gap: 12px;\n",
              "    }\n",
              "\n",
              "    .colab-df-convert {\n",
              "      background-color: #E8F0FE;\n",
              "      border: none;\n",
              "      border-radius: 50%;\n",
              "      cursor: pointer;\n",
              "      display: none;\n",
              "      fill: #1967D2;\n",
              "      height: 32px;\n",
              "      padding: 0 0 0 0;\n",
              "      width: 32px;\n",
              "    }\n",
              "\n",
              "    .colab-df-convert:hover {\n",
              "      background-color: #E2EBFA;\n",
              "      box-shadow: 0px 1px 2px rgba(60, 64, 67, 0.3), 0px 1px 3px 1px rgba(60, 64, 67, 0.15);\n",
              "      fill: #174EA6;\n",
              "    }\n",
              "\n",
              "    [theme=dark] .colab-df-convert {\n",
              "      background-color: #3B4455;\n",
              "      fill: #D2E3FC;\n",
              "    }\n",
              "\n",
              "    [theme=dark] .colab-df-convert:hover {\n",
              "      background-color: #434B5C;\n",
              "      box-shadow: 0px 1px 3px 1px rgba(0, 0, 0, 0.15);\n",
              "      filter: drop-shadow(0px 1px 2px rgba(0, 0, 0, 0.3));\n",
              "      fill: #FFFFFF;\n",
              "    }\n",
              "  </style>\n",
              "\n",
              "      <script>\n",
              "        const buttonEl =\n",
              "          document.querySelector('#df-47ce73aa-9d79-435e-a747-968da49d7ecb button.colab-df-convert');\n",
              "        buttonEl.style.display =\n",
              "          google.colab.kernel.accessAllowed ? 'block' : 'none';\n",
              "\n",
              "        async function convertToInteractive(key) {\n",
              "          const element = document.querySelector('#df-47ce73aa-9d79-435e-a747-968da49d7ecb');\n",
              "          const dataTable =\n",
              "            await google.colab.kernel.invokeFunction('convertToInteractive',\n",
              "                                                     [key], {});\n",
              "          if (!dataTable) return;\n",
              "\n",
              "          const docLinkHtml = 'Like what you see? Visit the ' +\n",
              "            '<a target=\"_blank\" href=https://colab.research.google.com/notebooks/data_table.ipynb>data table notebook</a>'\n",
              "            + ' to learn more about interactive tables.';\n",
              "          element.innerHTML = '';\n",
              "          dataTable['output_type'] = 'display_data';\n",
              "          await google.colab.output.renderOutput(dataTable, element);\n",
              "          const docLink = document.createElement('div');\n",
              "          docLink.innerHTML = docLinkHtml;\n",
              "          element.appendChild(docLink);\n",
              "        }\n",
              "      </script>\n",
              "    </div>\n",
              "  </div>\n",
              "  "
            ]
          },
          "metadata": {},
          "execution_count": 19
        }
      ]
    },
    {
      "cell_type": "code",
      "source": [
        "CC.head(2)"
      ],
      "metadata": {
        "colab": {
          "base_uri": "https://localhost:8080/",
          "height": 210
        },
        "id": "Vp4HEzcnyqw1",
        "outputId": "7e013333-6c4c-494e-ab41-6ce1d0c7a969"
      },
      "execution_count": 20,
      "outputs": [
        {
          "output_type": "execute_result",
          "data": {
            "text/plain": [
              "         Country CT_2  Region       Sub_Region   EU  G20  OPEC  WTO   PA   UN  \\\n",
              "0    Afghanistan   AF    Asia    Southern Asia  0.0  0.0   0.0  1.0  1.0  1.0   \n",
              "1  Åland Islands   AX  Europe  Northern Europe  0.0  0.0   0.0  0.0  0.0  0.0   \n",
              "\n",
              "   NATO  \n",
              "0   0.0  \n",
              "1   0.0  "
            ],
            "text/html": [
              "\n",
              "  <div id=\"df-98aa6973-944d-4771-bd6b-3b641fbea16d\">\n",
              "    <div class=\"colab-df-container\">\n",
              "      <div>\n",
              "<style scoped>\n",
              "    .dataframe tbody tr th:only-of-type {\n",
              "        vertical-align: middle;\n",
              "    }\n",
              "\n",
              "    .dataframe tbody tr th {\n",
              "        vertical-align: top;\n",
              "    }\n",
              "\n",
              "    .dataframe thead th {\n",
              "        text-align: right;\n",
              "    }\n",
              "</style>\n",
              "<table border=\"1\" class=\"dataframe\">\n",
              "  <thead>\n",
              "    <tr style=\"text-align: right;\">\n",
              "      <th></th>\n",
              "      <th>Country</th>\n",
              "      <th>CT_2</th>\n",
              "      <th>Region</th>\n",
              "      <th>Sub_Region</th>\n",
              "      <th>EU</th>\n",
              "      <th>G20</th>\n",
              "      <th>OPEC</th>\n",
              "      <th>WTO</th>\n",
              "      <th>PA</th>\n",
              "      <th>UN</th>\n",
              "      <th>NATO</th>\n",
              "    </tr>\n",
              "  </thead>\n",
              "  <tbody>\n",
              "    <tr>\n",
              "      <th>0</th>\n",
              "      <td>Afghanistan</td>\n",
              "      <td>AF</td>\n",
              "      <td>Asia</td>\n",
              "      <td>Southern Asia</td>\n",
              "      <td>0.0</td>\n",
              "      <td>0.0</td>\n",
              "      <td>0.0</td>\n",
              "      <td>1.0</td>\n",
              "      <td>1.0</td>\n",
              "      <td>1.0</td>\n",
              "      <td>0.0</td>\n",
              "    </tr>\n",
              "    <tr>\n",
              "      <th>1</th>\n",
              "      <td>Åland Islands</td>\n",
              "      <td>AX</td>\n",
              "      <td>Europe</td>\n",
              "      <td>Northern Europe</td>\n",
              "      <td>0.0</td>\n",
              "      <td>0.0</td>\n",
              "      <td>0.0</td>\n",
              "      <td>0.0</td>\n",
              "      <td>0.0</td>\n",
              "      <td>0.0</td>\n",
              "      <td>0.0</td>\n",
              "    </tr>\n",
              "  </tbody>\n",
              "</table>\n",
              "</div>\n",
              "      <button class=\"colab-df-convert\" onclick=\"convertToInteractive('df-98aa6973-944d-4771-bd6b-3b641fbea16d')\"\n",
              "              title=\"Convert this dataframe to an interactive table.\"\n",
              "              style=\"display:none;\">\n",
              "        \n",
              "  <svg xmlns=\"http://www.w3.org/2000/svg\" height=\"24px\"viewBox=\"0 0 24 24\"\n",
              "       width=\"24px\">\n",
              "    <path d=\"M0 0h24v24H0V0z\" fill=\"none\"/>\n",
              "    <path d=\"M18.56 5.44l.94 2.06.94-2.06 2.06-.94-2.06-.94-.94-2.06-.94 2.06-2.06.94zm-11 1L8.5 8.5l.94-2.06 2.06-.94-2.06-.94L8.5 2.5l-.94 2.06-2.06.94zm10 10l.94 2.06.94-2.06 2.06-.94-2.06-.94-.94-2.06-.94 2.06-2.06.94z\"/><path d=\"M17.41 7.96l-1.37-1.37c-.4-.4-.92-.59-1.43-.59-.52 0-1.04.2-1.43.59L10.3 9.45l-7.72 7.72c-.78.78-.78 2.05 0 2.83L4 21.41c.39.39.9.59 1.41.59.51 0 1.02-.2 1.41-.59l7.78-7.78 2.81-2.81c.8-.78.8-2.07 0-2.86zM5.41 20L4 18.59l7.72-7.72 1.47 1.35L5.41 20z\"/>\n",
              "  </svg>\n",
              "      </button>\n",
              "      \n",
              "  <style>\n",
              "    .colab-df-container {\n",
              "      display:flex;\n",
              "      flex-wrap:wrap;\n",
              "      gap: 12px;\n",
              "    }\n",
              "\n",
              "    .colab-df-convert {\n",
              "      background-color: #E8F0FE;\n",
              "      border: none;\n",
              "      border-radius: 50%;\n",
              "      cursor: pointer;\n",
              "      display: none;\n",
              "      fill: #1967D2;\n",
              "      height: 32px;\n",
              "      padding: 0 0 0 0;\n",
              "      width: 32px;\n",
              "    }\n",
              "\n",
              "    .colab-df-convert:hover {\n",
              "      background-color: #E2EBFA;\n",
              "      box-shadow: 0px 1px 2px rgba(60, 64, 67, 0.3), 0px 1px 3px 1px rgba(60, 64, 67, 0.15);\n",
              "      fill: #174EA6;\n",
              "    }\n",
              "\n",
              "    [theme=dark] .colab-df-convert {\n",
              "      background-color: #3B4455;\n",
              "      fill: #D2E3FC;\n",
              "    }\n",
              "\n",
              "    [theme=dark] .colab-df-convert:hover {\n",
              "      background-color: #434B5C;\n",
              "      box-shadow: 0px 1px 3px 1px rgba(0, 0, 0, 0.15);\n",
              "      filter: drop-shadow(0px 1px 2px rgba(0, 0, 0, 0.3));\n",
              "      fill: #FFFFFF;\n",
              "    }\n",
              "  </style>\n",
              "\n",
              "      <script>\n",
              "        const buttonEl =\n",
              "          document.querySelector('#df-98aa6973-944d-4771-bd6b-3b641fbea16d button.colab-df-convert');\n",
              "        buttonEl.style.display =\n",
              "          google.colab.kernel.accessAllowed ? 'block' : 'none';\n",
              "\n",
              "        async function convertToInteractive(key) {\n",
              "          const element = document.querySelector('#df-98aa6973-944d-4771-bd6b-3b641fbea16d');\n",
              "          const dataTable =\n",
              "            await google.colab.kernel.invokeFunction('convertToInteractive',\n",
              "                                                     [key], {});\n",
              "          if (!dataTable) return;\n",
              "\n",
              "          const docLinkHtml = 'Like what you see? Visit the ' +\n",
              "            '<a target=\"_blank\" href=https://colab.research.google.com/notebooks/data_table.ipynb>data table notebook</a>'\n",
              "            + ' to learn more about interactive tables.';\n",
              "          element.innerHTML = '';\n",
              "          dataTable['output_type'] = 'display_data';\n",
              "          await google.colab.output.renderOutput(dataTable, element);\n",
              "          const docLink = document.createElement('div');\n",
              "          docLink.innerHTML = docLinkHtml;\n",
              "          element.appendChild(docLink);\n",
              "        }\n",
              "      </script>\n",
              "    </div>\n",
              "  </div>\n",
              "  "
            ]
          },
          "metadata": {},
          "execution_count": 20
        }
      ]
    },
    {
      "cell_type": "code",
      "source": [
        "# Merge ESG data with Country Code information\n",
        "ESG_CC = pd.merge(ESG, CC, on='CT_2')"
      ],
      "metadata": {
        "id": "KDjOjJtjhoJj"
      },
      "execution_count": 21,
      "outputs": []
    },
    {
      "cell_type": "code",
      "source": [
        "# Reorganize data\n",
        "cats = list(ESG_CC.select_dtypes(include=['object']).columns)\n",
        "nums = list(ESG_CC.select_dtypes(exclude=['object']).columns)"
      ],
      "metadata": {
        "id": "N-qmQmjltRxf"
      },
      "execution_count": 22,
      "outputs": []
    },
    {
      "cell_type": "code",
      "source": [
        "print(f'categorical variables:  {cats}')"
      ],
      "metadata": {
        "colab": {
          "base_uri": "https://localhost:8080/"
        },
        "id": "9V0jyApatDep",
        "outputId": "496645b7-f0b2-4fcb-b44e-e35b6cf3a963"
      },
      "execution_count": 23,
      "outputs": [
        {
          "output_type": "stream",
          "name": "stdout",
          "text": [
            "categorical variables:  ['Company_Name', 'CT_2', 'Sector', 'Subsector', 'Overall_ESG_RATING', 'Rating_list', 'Country', 'Region', 'Sub_Region']\n"
          ]
        }
      ]
    },
    {
      "cell_type": "code",
      "source": [
        "print(f'numerical variables:  {nums}')"
      ],
      "metadata": {
        "colab": {
          "base_uri": "https://localhost:8080/"
        },
        "id": "UGS7nPBStDMU",
        "outputId": "3f4158ac-f53b-4f80-f04c-93d78835ce78"
      },
      "execution_count": 24,
      "outputs": [
        {
          "output_type": "stream",
          "name": "stdout",
          "text": [
            "numerical variables:  ['Overall_ESG_SCORE', 'Environmental_SCORE', 'Social_SCORE', 'Governance_SCORE', 'EU', 'G20', 'OPEC', 'WTO', 'PA', 'UN', 'NATO']\n"
          ]
        }
      ]
    },
    {
      "cell_type": "code",
      "source": [
        "ESG_CC = pd.concat((ESG_CC[cats], ESG_CC[nums]), axis=1)"
      ],
      "metadata": {
        "id": "4N2KQ7JO3_RV"
      },
      "execution_count": 25,
      "outputs": []
    },
    {
      "cell_type": "code",
      "source": [
        "ESG_CC = ESG_CC[['Country', 'Region', 'CT_2', 'Sub_Region','Company_Name', 'Sector', 'Subsector', 'Overall_ESG_RATING', 'Rating_list', 'Overall_ESG_SCORE', 'Environmental_SCORE', 'Social_SCORE', 'Governance_SCORE', 'EU', 'G20', 'OPEC', 'WTO', 'PA', 'UN', 'NATO']]"
      ],
      "metadata": {
        "id": "lPyx2MIA3_EJ"
      },
      "execution_count": 26,
      "outputs": []
    },
    {
      "cell_type": "code",
      "source": [
        "ESG_CC.head(2)"
      ],
      "metadata": {
        "colab": {
          "base_uri": "https://localhost:8080/",
          "height": 245
        },
        "id": "aOhQQTi92ns0",
        "outputId": "595ceafa-2a39-4794-ce97-9447262b5f22"
      },
      "execution_count": 27,
      "outputs": [
        {
          "output_type": "execute_result",
          "data": {
            "text/plain": [
              "  Country    Region CT_2        Sub_Region                  Company_Name  \\\n",
              "0  Canada  Americas   CA  Northern America                0921706 BC LTD   \n",
              "1  Canada  Americas   CA  Northern America  ALIMENTATION COUCHE-TARD INC   \n",
              "\n",
              "                       Sector                            Subsector  \\\n",
              "0  Telecommunication Services  Wireless Telecommunication Services   \n",
              "1     Retail - Food & Staples                          Food Retail   \n",
              "\n",
              "  Overall_ESG_RATING Rating_list  Overall_ESG_SCORE  Environmental_SCORE  \\\n",
              "0                  A           3                6.6                 10.0   \n",
              "1                  A           3                6.5                  4.7   \n",
              "\n",
              "   Social_SCORE  Governance_SCORE   EU  G20  OPEC  WTO   PA   UN  NATO  \n",
              "0           7.4               2.7  0.0  1.0   0.0  1.0  1.0  1.0   1.0  \n",
              "1           4.7               5.6  0.0  1.0   0.0  1.0  1.0  1.0   1.0  "
            ],
            "text/html": [
              "\n",
              "  <div id=\"df-be3a62af-97d2-46cc-838b-29abeb4df60e\">\n",
              "    <div class=\"colab-df-container\">\n",
              "      <div>\n",
              "<style scoped>\n",
              "    .dataframe tbody tr th:only-of-type {\n",
              "        vertical-align: middle;\n",
              "    }\n",
              "\n",
              "    .dataframe tbody tr th {\n",
              "        vertical-align: top;\n",
              "    }\n",
              "\n",
              "    .dataframe thead th {\n",
              "        text-align: right;\n",
              "    }\n",
              "</style>\n",
              "<table border=\"1\" class=\"dataframe\">\n",
              "  <thead>\n",
              "    <tr style=\"text-align: right;\">\n",
              "      <th></th>\n",
              "      <th>Country</th>\n",
              "      <th>Region</th>\n",
              "      <th>CT_2</th>\n",
              "      <th>Sub_Region</th>\n",
              "      <th>Company_Name</th>\n",
              "      <th>Sector</th>\n",
              "      <th>Subsector</th>\n",
              "      <th>Overall_ESG_RATING</th>\n",
              "      <th>Rating_list</th>\n",
              "      <th>Overall_ESG_SCORE</th>\n",
              "      <th>Environmental_SCORE</th>\n",
              "      <th>Social_SCORE</th>\n",
              "      <th>Governance_SCORE</th>\n",
              "      <th>EU</th>\n",
              "      <th>G20</th>\n",
              "      <th>OPEC</th>\n",
              "      <th>WTO</th>\n",
              "      <th>PA</th>\n",
              "      <th>UN</th>\n",
              "      <th>NATO</th>\n",
              "    </tr>\n",
              "  </thead>\n",
              "  <tbody>\n",
              "    <tr>\n",
              "      <th>0</th>\n",
              "      <td>Canada</td>\n",
              "      <td>Americas</td>\n",
              "      <td>CA</td>\n",
              "      <td>Northern America</td>\n",
              "      <td>0921706 BC LTD</td>\n",
              "      <td>Telecommunication Services</td>\n",
              "      <td>Wireless Telecommunication Services</td>\n",
              "      <td>A</td>\n",
              "      <td>3</td>\n",
              "      <td>6.6</td>\n",
              "      <td>10.0</td>\n",
              "      <td>7.4</td>\n",
              "      <td>2.7</td>\n",
              "      <td>0.0</td>\n",
              "      <td>1.0</td>\n",
              "      <td>0.0</td>\n",
              "      <td>1.0</td>\n",
              "      <td>1.0</td>\n",
              "      <td>1.0</td>\n",
              "      <td>1.0</td>\n",
              "    </tr>\n",
              "    <tr>\n",
              "      <th>1</th>\n",
              "      <td>Canada</td>\n",
              "      <td>Americas</td>\n",
              "      <td>CA</td>\n",
              "      <td>Northern America</td>\n",
              "      <td>ALIMENTATION COUCHE-TARD INC</td>\n",
              "      <td>Retail - Food &amp; Staples</td>\n",
              "      <td>Food Retail</td>\n",
              "      <td>A</td>\n",
              "      <td>3</td>\n",
              "      <td>6.5</td>\n",
              "      <td>4.7</td>\n",
              "      <td>4.7</td>\n",
              "      <td>5.6</td>\n",
              "      <td>0.0</td>\n",
              "      <td>1.0</td>\n",
              "      <td>0.0</td>\n",
              "      <td>1.0</td>\n",
              "      <td>1.0</td>\n",
              "      <td>1.0</td>\n",
              "      <td>1.0</td>\n",
              "    </tr>\n",
              "  </tbody>\n",
              "</table>\n",
              "</div>\n",
              "      <button class=\"colab-df-convert\" onclick=\"convertToInteractive('df-be3a62af-97d2-46cc-838b-29abeb4df60e')\"\n",
              "              title=\"Convert this dataframe to an interactive table.\"\n",
              "              style=\"display:none;\">\n",
              "        \n",
              "  <svg xmlns=\"http://www.w3.org/2000/svg\" height=\"24px\"viewBox=\"0 0 24 24\"\n",
              "       width=\"24px\">\n",
              "    <path d=\"M0 0h24v24H0V0z\" fill=\"none\"/>\n",
              "    <path d=\"M18.56 5.44l.94 2.06.94-2.06 2.06-.94-2.06-.94-.94-2.06-.94 2.06-2.06.94zm-11 1L8.5 8.5l.94-2.06 2.06-.94-2.06-.94L8.5 2.5l-.94 2.06-2.06.94zm10 10l.94 2.06.94-2.06 2.06-.94-2.06-.94-.94-2.06-.94 2.06-2.06.94z\"/><path d=\"M17.41 7.96l-1.37-1.37c-.4-.4-.92-.59-1.43-.59-.52 0-1.04.2-1.43.59L10.3 9.45l-7.72 7.72c-.78.78-.78 2.05 0 2.83L4 21.41c.39.39.9.59 1.41.59.51 0 1.02-.2 1.41-.59l7.78-7.78 2.81-2.81c.8-.78.8-2.07 0-2.86zM5.41 20L4 18.59l7.72-7.72 1.47 1.35L5.41 20z\"/>\n",
              "  </svg>\n",
              "      </button>\n",
              "      \n",
              "  <style>\n",
              "    .colab-df-container {\n",
              "      display:flex;\n",
              "      flex-wrap:wrap;\n",
              "      gap: 12px;\n",
              "    }\n",
              "\n",
              "    .colab-df-convert {\n",
              "      background-color: #E8F0FE;\n",
              "      border: none;\n",
              "      border-radius: 50%;\n",
              "      cursor: pointer;\n",
              "      display: none;\n",
              "      fill: #1967D2;\n",
              "      height: 32px;\n",
              "      padding: 0 0 0 0;\n",
              "      width: 32px;\n",
              "    }\n",
              "\n",
              "    .colab-df-convert:hover {\n",
              "      background-color: #E2EBFA;\n",
              "      box-shadow: 0px 1px 2px rgba(60, 64, 67, 0.3), 0px 1px 3px 1px rgba(60, 64, 67, 0.15);\n",
              "      fill: #174EA6;\n",
              "    }\n",
              "\n",
              "    [theme=dark] .colab-df-convert {\n",
              "      background-color: #3B4455;\n",
              "      fill: #D2E3FC;\n",
              "    }\n",
              "\n",
              "    [theme=dark] .colab-df-convert:hover {\n",
              "      background-color: #434B5C;\n",
              "      box-shadow: 0px 1px 3px 1px rgba(0, 0, 0, 0.15);\n",
              "      filter: drop-shadow(0px 1px 2px rgba(0, 0, 0, 0.3));\n",
              "      fill: #FFFFFF;\n",
              "    }\n",
              "  </style>\n",
              "\n",
              "      <script>\n",
              "        const buttonEl =\n",
              "          document.querySelector('#df-be3a62af-97d2-46cc-838b-29abeb4df60e button.colab-df-convert');\n",
              "        buttonEl.style.display =\n",
              "          google.colab.kernel.accessAllowed ? 'block' : 'none';\n",
              "\n",
              "        async function convertToInteractive(key) {\n",
              "          const element = document.querySelector('#df-be3a62af-97d2-46cc-838b-29abeb4df60e');\n",
              "          const dataTable =\n",
              "            await google.colab.kernel.invokeFunction('convertToInteractive',\n",
              "                                                     [key], {});\n",
              "          if (!dataTable) return;\n",
              "\n",
              "          const docLinkHtml = 'Like what you see? Visit the ' +\n",
              "            '<a target=\"_blank\" href=https://colab.research.google.com/notebooks/data_table.ipynb>data table notebook</a>'\n",
              "            + ' to learn more about interactive tables.';\n",
              "          element.innerHTML = '';\n",
              "          dataTable['output_type'] = 'display_data';\n",
              "          await google.colab.output.renderOutput(dataTable, element);\n",
              "          const docLink = document.createElement('div');\n",
              "          docLink.innerHTML = docLinkHtml;\n",
              "          element.appendChild(docLink);\n",
              "        }\n",
              "      </script>\n",
              "    </div>\n",
              "  </div>\n",
              "  "
            ]
          },
          "metadata": {},
          "execution_count": 27
        }
      ]
    },
    {
      "cell_type": "code",
      "source": [
        "ESG_CC.shape"
      ],
      "metadata": {
        "colab": {
          "base_uri": "https://localhost:8080/"
        },
        "id": "1-GolVv1oNi2",
        "outputId": "aa443d56-86d6-4a54-8764-7b3ccf8ed609"
      },
      "execution_count": 28,
      "outputs": [
        {
          "output_type": "execute_result",
          "data": {
            "text/plain": [
              "(15644, 20)"
            ]
          },
          "metadata": {},
          "execution_count": 28
        }
      ]
    },
    {
      "cell_type": "code",
      "source": [
        "# Combined ESG_CC table info\n",
        "ESG_CC.info()"
      ],
      "metadata": {
        "colab": {
          "base_uri": "https://localhost:8080/"
        },
        "id": "XbkCwdkx9E1-",
        "outputId": "c5f40881-6680-4f0f-e634-c466656a6652"
      },
      "execution_count": 29,
      "outputs": [
        {
          "output_type": "stream",
          "name": "stdout",
          "text": [
            "<class 'pandas.core.frame.DataFrame'>\n",
            "Int64Index: 15644 entries, 0 to 15643\n",
            "Data columns (total 20 columns):\n",
            " #   Column               Non-Null Count  Dtype  \n",
            "---  ------               --------------  -----  \n",
            " 0   Country              15644 non-null  object \n",
            " 1   Region               15644 non-null  object \n",
            " 2   CT_2                 15644 non-null  object \n",
            " 3   Sub_Region           15644 non-null  object \n",
            " 4   Company_Name         15644 non-null  object \n",
            " 5   Sector               15644 non-null  object \n",
            " 6   Subsector            15644 non-null  object \n",
            " 7   Overall_ESG_RATING   15644 non-null  object \n",
            " 8   Rating_list          15644 non-null  object \n",
            " 9   Overall_ESG_SCORE    15644 non-null  float64\n",
            " 10  Environmental_SCORE  15644 non-null  float64\n",
            " 11  Social_SCORE         15644 non-null  float64\n",
            " 12  Governance_SCORE     15644 non-null  float64\n",
            " 13  EU                   15644 non-null  float64\n",
            " 14  G20                  15644 non-null  float64\n",
            " 15  OPEC                 15644 non-null  float64\n",
            " 16  WTO                  15644 non-null  float64\n",
            " 17  PA                   15644 non-null  float64\n",
            " 18  UN                   15644 non-null  float64\n",
            " 19  NATO                 15644 non-null  float64\n",
            "dtypes: float64(11), object(9)\n",
            "memory usage: 2.5+ MB\n"
          ]
        }
      ]
    },
    {
      "cell_type": "code",
      "source": [
        "# Count of unique values\n",
        "ESG_CC.nunique(axis=0)"
      ],
      "metadata": {
        "colab": {
          "base_uri": "https://localhost:8080/"
        },
        "id": "kF775o1RtvTM",
        "outputId": "00def89c-cde9-482d-900c-6033685803ef"
      },
      "execution_count": 30,
      "outputs": [
        {
          "output_type": "execute_result",
          "data": {
            "text/plain": [
              "Country                  108\n",
              "Region                     5\n",
              "CT_2                     108\n",
              "Sub_Region                15\n",
              "Company_Name           15558\n",
              "Sector                    69\n",
              "Subsector                192\n",
              "Overall_ESG_RATING         7\n",
              "Rating_list                7\n",
              "Overall_ESG_SCORE        117\n",
              "Environmental_SCORE      101\n",
              "Social_SCORE             101\n",
              "Governance_SCORE          88\n",
              "EU                         2\n",
              "G20                        2\n",
              "OPEC                       2\n",
              "WTO                        2\n",
              "PA                         2\n",
              "UN                         2\n",
              "NATO                       2\n",
              "dtype: int64"
            ]
          },
          "metadata": {},
          "execution_count": 30
        }
      ]
    },
    {
      "cell_type": "code",
      "source": [
        "# Merge ESG with GDP\n",
        "ESG_GDP = pd.merge(ESG_CC, GDP, on='CT_2')\n",
        "ESG_GDP.drop(['EU','G20','OPEC','WTO','PA','UN','NATO'], axis=1, inplace=True)\n",
        "ESG_GDP.head(3)"
      ],
      "metadata": {
        "colab": {
          "base_uri": "https://localhost:8080/",
          "height": 294
        },
        "id": "vdO84B3YN_2R",
        "outputId": "8cd7a26f-5af0-47a3-9d28-861844df42dd"
      },
      "execution_count": 31,
      "outputs": [
        {
          "output_type": "execute_result",
          "data": {
            "text/plain": [
              "  Country    Region CT_2        Sub_Region                  Company_Name  \\\n",
              "0  Canada  Americas   CA  Northern America                0921706 BC LTD   \n",
              "1  Canada  Americas   CA  Northern America  ALIMENTATION COUCHE-TARD INC   \n",
              "2  Canada  Americas   CA  Northern America                      ATCO LTD   \n",
              "\n",
              "                       Sector                            Subsector  \\\n",
              "0  Telecommunication Services  Wireless Telecommunication Services   \n",
              "1     Retail - Food & Staples                          Food Retail   \n",
              "2                   Utilities                      Multi-Utilities   \n",
              "\n",
              "  Overall_ESG_RATING Rating_list  Overall_ESG_SCORE  Environmental_SCORE  \\\n",
              "0                  A           3                6.6                 10.0   \n",
              "1                  A           3                6.5                  4.7   \n",
              "2                  A           3                6.1                  7.1   \n",
              "\n",
              "   Social_SCORE  Governance_SCORE  IMF_GDP_Estimate IMF_GDP_Year  \\\n",
              "0           7.4               2.7         2221218.0         2022   \n",
              "1           4.7               5.6         2221218.0         2022   \n",
              "2           6.2               3.8         2221218.0         2022   \n",
              "\n",
              "   UN_GDP_Estimate UN_GDP_Year  World_Bank_GDP_Estimate World_Bank_GDP_Year  \n",
              "0        1644037.0        2020                1643408.0                2020  \n",
              "1        1644037.0        2020                1643408.0                2020  \n",
              "2        1644037.0        2020                1643408.0                2020  "
            ],
            "text/html": [
              "\n",
              "  <div id=\"df-f76a2cf1-7d2d-4457-aecc-349ce0a0bfa7\">\n",
              "    <div class=\"colab-df-container\">\n",
              "      <div>\n",
              "<style scoped>\n",
              "    .dataframe tbody tr th:only-of-type {\n",
              "        vertical-align: middle;\n",
              "    }\n",
              "\n",
              "    .dataframe tbody tr th {\n",
              "        vertical-align: top;\n",
              "    }\n",
              "\n",
              "    .dataframe thead th {\n",
              "        text-align: right;\n",
              "    }\n",
              "</style>\n",
              "<table border=\"1\" class=\"dataframe\">\n",
              "  <thead>\n",
              "    <tr style=\"text-align: right;\">\n",
              "      <th></th>\n",
              "      <th>Country</th>\n",
              "      <th>Region</th>\n",
              "      <th>CT_2</th>\n",
              "      <th>Sub_Region</th>\n",
              "      <th>Company_Name</th>\n",
              "      <th>Sector</th>\n",
              "      <th>Subsector</th>\n",
              "      <th>Overall_ESG_RATING</th>\n",
              "      <th>Rating_list</th>\n",
              "      <th>Overall_ESG_SCORE</th>\n",
              "      <th>Environmental_SCORE</th>\n",
              "      <th>Social_SCORE</th>\n",
              "      <th>Governance_SCORE</th>\n",
              "      <th>IMF_GDP_Estimate</th>\n",
              "      <th>IMF_GDP_Year</th>\n",
              "      <th>UN_GDP_Estimate</th>\n",
              "      <th>UN_GDP_Year</th>\n",
              "      <th>World_Bank_GDP_Estimate</th>\n",
              "      <th>World_Bank_GDP_Year</th>\n",
              "    </tr>\n",
              "  </thead>\n",
              "  <tbody>\n",
              "    <tr>\n",
              "      <th>0</th>\n",
              "      <td>Canada</td>\n",
              "      <td>Americas</td>\n",
              "      <td>CA</td>\n",
              "      <td>Northern America</td>\n",
              "      <td>0921706 BC LTD</td>\n",
              "      <td>Telecommunication Services</td>\n",
              "      <td>Wireless Telecommunication Services</td>\n",
              "      <td>A</td>\n",
              "      <td>3</td>\n",
              "      <td>6.6</td>\n",
              "      <td>10.0</td>\n",
              "      <td>7.4</td>\n",
              "      <td>2.7</td>\n",
              "      <td>2221218.0</td>\n",
              "      <td>2022</td>\n",
              "      <td>1644037.0</td>\n",
              "      <td>2020</td>\n",
              "      <td>1643408.0</td>\n",
              "      <td>2020</td>\n",
              "    </tr>\n",
              "    <tr>\n",
              "      <th>1</th>\n",
              "      <td>Canada</td>\n",
              "      <td>Americas</td>\n",
              "      <td>CA</td>\n",
              "      <td>Northern America</td>\n",
              "      <td>ALIMENTATION COUCHE-TARD INC</td>\n",
              "      <td>Retail - Food &amp; Staples</td>\n",
              "      <td>Food Retail</td>\n",
              "      <td>A</td>\n",
              "      <td>3</td>\n",
              "      <td>6.5</td>\n",
              "      <td>4.7</td>\n",
              "      <td>4.7</td>\n",
              "      <td>5.6</td>\n",
              "      <td>2221218.0</td>\n",
              "      <td>2022</td>\n",
              "      <td>1644037.0</td>\n",
              "      <td>2020</td>\n",
              "      <td>1643408.0</td>\n",
              "      <td>2020</td>\n",
              "    </tr>\n",
              "    <tr>\n",
              "      <th>2</th>\n",
              "      <td>Canada</td>\n",
              "      <td>Americas</td>\n",
              "      <td>CA</td>\n",
              "      <td>Northern America</td>\n",
              "      <td>ATCO LTD</td>\n",
              "      <td>Utilities</td>\n",
              "      <td>Multi-Utilities</td>\n",
              "      <td>A</td>\n",
              "      <td>3</td>\n",
              "      <td>6.1</td>\n",
              "      <td>7.1</td>\n",
              "      <td>6.2</td>\n",
              "      <td>3.8</td>\n",
              "      <td>2221218.0</td>\n",
              "      <td>2022</td>\n",
              "      <td>1644037.0</td>\n",
              "      <td>2020</td>\n",
              "      <td>1643408.0</td>\n",
              "      <td>2020</td>\n",
              "    </tr>\n",
              "  </tbody>\n",
              "</table>\n",
              "</div>\n",
              "      <button class=\"colab-df-convert\" onclick=\"convertToInteractive('df-f76a2cf1-7d2d-4457-aecc-349ce0a0bfa7')\"\n",
              "              title=\"Convert this dataframe to an interactive table.\"\n",
              "              style=\"display:none;\">\n",
              "        \n",
              "  <svg xmlns=\"http://www.w3.org/2000/svg\" height=\"24px\"viewBox=\"0 0 24 24\"\n",
              "       width=\"24px\">\n",
              "    <path d=\"M0 0h24v24H0V0z\" fill=\"none\"/>\n",
              "    <path d=\"M18.56 5.44l.94 2.06.94-2.06 2.06-.94-2.06-.94-.94-2.06-.94 2.06-2.06.94zm-11 1L8.5 8.5l.94-2.06 2.06-.94-2.06-.94L8.5 2.5l-.94 2.06-2.06.94zm10 10l.94 2.06.94-2.06 2.06-.94-2.06-.94-.94-2.06-.94 2.06-2.06.94z\"/><path d=\"M17.41 7.96l-1.37-1.37c-.4-.4-.92-.59-1.43-.59-.52 0-1.04.2-1.43.59L10.3 9.45l-7.72 7.72c-.78.78-.78 2.05 0 2.83L4 21.41c.39.39.9.59 1.41.59.51 0 1.02-.2 1.41-.59l7.78-7.78 2.81-2.81c.8-.78.8-2.07 0-2.86zM5.41 20L4 18.59l7.72-7.72 1.47 1.35L5.41 20z\"/>\n",
              "  </svg>\n",
              "      </button>\n",
              "      \n",
              "  <style>\n",
              "    .colab-df-container {\n",
              "      display:flex;\n",
              "      flex-wrap:wrap;\n",
              "      gap: 12px;\n",
              "    }\n",
              "\n",
              "    .colab-df-convert {\n",
              "      background-color: #E8F0FE;\n",
              "      border: none;\n",
              "      border-radius: 50%;\n",
              "      cursor: pointer;\n",
              "      display: none;\n",
              "      fill: #1967D2;\n",
              "      height: 32px;\n",
              "      padding: 0 0 0 0;\n",
              "      width: 32px;\n",
              "    }\n",
              "\n",
              "    .colab-df-convert:hover {\n",
              "      background-color: #E2EBFA;\n",
              "      box-shadow: 0px 1px 2px rgba(60, 64, 67, 0.3), 0px 1px 3px 1px rgba(60, 64, 67, 0.15);\n",
              "      fill: #174EA6;\n",
              "    }\n",
              "\n",
              "    [theme=dark] .colab-df-convert {\n",
              "      background-color: #3B4455;\n",
              "      fill: #D2E3FC;\n",
              "    }\n",
              "\n",
              "    [theme=dark] .colab-df-convert:hover {\n",
              "      background-color: #434B5C;\n",
              "      box-shadow: 0px 1px 3px 1px rgba(0, 0, 0, 0.15);\n",
              "      filter: drop-shadow(0px 1px 2px rgba(0, 0, 0, 0.3));\n",
              "      fill: #FFFFFF;\n",
              "    }\n",
              "  </style>\n",
              "\n",
              "      <script>\n",
              "        const buttonEl =\n",
              "          document.querySelector('#df-f76a2cf1-7d2d-4457-aecc-349ce0a0bfa7 button.colab-df-convert');\n",
              "        buttonEl.style.display =\n",
              "          google.colab.kernel.accessAllowed ? 'block' : 'none';\n",
              "\n",
              "        async function convertToInteractive(key) {\n",
              "          const element = document.querySelector('#df-f76a2cf1-7d2d-4457-aecc-349ce0a0bfa7');\n",
              "          const dataTable =\n",
              "            await google.colab.kernel.invokeFunction('convertToInteractive',\n",
              "                                                     [key], {});\n",
              "          if (!dataTable) return;\n",
              "\n",
              "          const docLinkHtml = 'Like what you see? Visit the ' +\n",
              "            '<a target=\"_blank\" href=https://colab.research.google.com/notebooks/data_table.ipynb>data table notebook</a>'\n",
              "            + ' to learn more about interactive tables.';\n",
              "          element.innerHTML = '';\n",
              "          dataTable['output_type'] = 'display_data';\n",
              "          await google.colab.output.renderOutput(dataTable, element);\n",
              "          const docLink = document.createElement('div');\n",
              "          docLink.innerHTML = docLinkHtml;\n",
              "          element.appendChild(docLink);\n",
              "        }\n",
              "      </script>\n",
              "    </div>\n",
              "  </div>\n",
              "  "
            ]
          },
          "metadata": {},
          "execution_count": 31
        }
      ]
    },
    {
      "cell_type": "markdown",
      "source": [
        "\n",
        "# EDA for Sector focused research - Food and Beverage\n",
        "'Beverages', 'Food Products', 'Retail - Food & Staples', 'Restaurants'"
      ],
      "metadata": {
        "id": "8phzkHsZnfHo"
      }
    },
    {
      "cell_type": "code",
      "source": [
        "ESG.Sector.unique()"
      ],
      "metadata": {
        "colab": {
          "base_uri": "https://localhost:8080/"
        },
        "id": "FT3ddsu6nmS9",
        "outputId": "132a66f2-54eb-4684-82c2-41b578de1106"
      },
      "execution_count": 32,
      "outputs": [
        {
          "output_type": "execute_result",
          "data": {
            "text/plain": [
              "array(['Telecommunication Services',\n",
              "       'Real Estate Development & Diversified Activities',\n",
              "       'Health Care Providers & Services', 'Software & Services',\n",
              "       'Biotechnology', 'Real Estate Management & Services',\n",
              "       'Building Products', 'Diversified Consumer Services',\n",
              "       'Electronic Equipment, Instruments & Components',\n",
              "       'Property & Casualty Insurance', 'Utilities',\n",
              "       'Health Care Equipment & Supplies',\n",
              "       'Commercial Services & Supplies', 'Banks',\n",
              "       'Transportation Infrastructure',\n",
              "       'Oil & Gas Refining, Marketing, Transportation & Storage',\n",
              "       'Beverages', 'Retail - Consumer Discretionary', 'Casinos & Gaming',\n",
              "       'Hotels & Travel', 'Industrial Machinery',\n",
              "       'Construction & Engineering', 'Food Products',\n",
              "       'Interactive Media & Services',\n",
              "       'Technology Hardware, Storage & Peripherals',\n",
              "       'Diversified Financials',\n",
              "       'Semiconductors & Semiconductor Equipment', 'Consumer Finance',\n",
              "       'Trading Companies & Distributors', 'Aerospace & Defense',\n",
              "       'Asset Management & Custody Banks',\n",
              "       'Multi-Line Insurance & Brokerage',\n",
              "       'Construction & Farm Machinery & Heavy Trucks',\n",
              "       'Industrial Conglomerates', 'Specialty Chemicals',\n",
              "       'Oil & Gas Exploration & Production', 'Airlines',\n",
              "       'Retail - Food & Staples', 'Pharmaceuticals',\n",
              "       'Metals and Mining - Non-Precious Metals',\n",
              "       'Investment Banking & Brokerage', 'Road & Rail Transport',\n",
              "       'Leisure Products', 'Household & Personal Products',\n",
              "       'Media & Entertainment', 'Containers & Packaging',\n",
              "       'Diversified Chemicals', 'Commodity Chemicals',\n",
              "       'Professional Services', 'Electrical Equipment',\n",
              "       'Integrated Oil & Gas', 'Auto Components',\n",
              "       'Metals and Mining - Precious Metals', 'Automobiles',\n",
              "       'Broadcasting, Cable & Satellite', 'Air Freight & Logistics',\n",
              "       'Restaurants', 'Life & Health Insurance',\n",
              "       'Energy Equipment & Services', 'Steel',\n",
              "       'Textiles, Apparel & Luxury Goods', 'Construction Materials',\n",
              "       'Marine Transport', 'Supranationals & Development Banks',\n",
              "       'Paper & Forest Products', 'Household Durables', 'Tobacco',\n",
              "       'Media', 'Integrated Telecommunication Services'], dtype=object)"
            ]
          },
          "metadata": {},
          "execution_count": 32
        }
      ]
    },
    {
      "cell_type": "code",
      "source": [
        "ESG_All = ESG_CC[['Country', 'Region', 'CT_2', 'Sub_Region','Company_Name', 'Sector', 'Overall_ESG_RATING', 'Rating_list', 'Overall_ESG_SCORE', 'Environmental_SCORE', 'Social_SCORE', 'Governance_SCORE']]\n",
        "ESG_Food = ESG_All.loc[ESG_All['Sector'].isin(['Beverages', 'Food Products', 'Retail - Food & Staples', 'Restaurants'])]\n",
        "ESG_Food_USA = ESG_Food.loc[ESG_Food['CT_2'] == 'US']\n",
        "ESG_Food_OTH = ESG_Food.loc[ESG_Food['CT_2'] != 'US']\n",
        "ESG_All = ESG_All.sort_values('Rating_list', ascending=True)\n",
        "ESG_Food = ESG_Food.sort_values('Rating_list', ascending=True)\n",
        "ESG_Food_USA = ESG_Food_USA.sort_values('Rating_list', ascending=True)\n",
        "ESG_Food_OTH = ESG_Food_OTH.sort_values('Rating_list', ascending=True)"
      ],
      "metadata": {
        "id": "i8Hy6nQ-r4lX"
      },
      "execution_count": 33,
      "outputs": []
    },
    {
      "cell_type": "code",
      "source": [
        "ESG_All.info()\n",
        "#ESG_Food.info()\n",
        "#ESG_Food_USA.info()\n",
        "#ESG_Food_OTH.info()"
      ],
      "metadata": {
        "colab": {
          "base_uri": "https://localhost:8080/"
        },
        "id": "LEdFKVkXvr6o",
        "outputId": "4760b2d0-ba81-47e7-e676-187ac852fcb0"
      },
      "execution_count": 34,
      "outputs": [
        {
          "output_type": "stream",
          "name": "stdout",
          "text": [
            "<class 'pandas.core.frame.DataFrame'>\n",
            "Int64Index: 15644 entries, 9642 to 13757\n",
            "Data columns (total 12 columns):\n",
            " #   Column               Non-Null Count  Dtype  \n",
            "---  ------               --------------  -----  \n",
            " 0   Country              15644 non-null  object \n",
            " 1   Region               15644 non-null  object \n",
            " 2   CT_2                 15644 non-null  object \n",
            " 3   Sub_Region           15644 non-null  object \n",
            " 4   Company_Name         15644 non-null  object \n",
            " 5   Sector               15644 non-null  object \n",
            " 6   Overall_ESG_RATING   15644 non-null  object \n",
            " 7   Rating_list          15644 non-null  object \n",
            " 8   Overall_ESG_SCORE    15644 non-null  float64\n",
            " 9   Environmental_SCORE  15644 non-null  float64\n",
            " 10  Social_SCORE         15644 non-null  float64\n",
            " 11  Governance_SCORE     15644 non-null  float64\n",
            "dtypes: float64(4), object(8)\n",
            "memory usage: 1.6+ MB\n"
          ]
        }
      ]
    },
    {
      "cell_type": "code",
      "source": [
        "# Function to return description, median and modes for all of the scores\n",
        "def describe(df):\n",
        "  de = df[['Overall_ESG_SCORE','Environmental_SCORE','Social_SCORE','Governance_SCORE']].describe().transpose()\n",
        "  me = df[['Overall_ESG_SCORE','Environmental_SCORE','Social_SCORE','Governance_SCORE']].median()\n",
        "  mo = df[['Overall_ESG_SCORE','Environmental_SCORE','Social_SCORE','Governance_SCORE']].mode().transpose()\n",
        "  return print('Score Description\\n',de, '\\n\\nScore Median\\n',me, '\\n\\nScore Mode\\n',mo)"
      ],
      "metadata": {
        "id": "o3BHoFZ5wz0V"
      },
      "execution_count": 35,
      "outputs": []
    },
    {
      "cell_type": "code",
      "source": [
        "describe(ESG_All)"
      ],
      "metadata": {
        "colab": {
          "base_uri": "https://localhost:8080/"
        },
        "id": "U0393zs3w8_E",
        "outputId": "8fa00908-2e47-41a7-afe5-22ecfab7d948"
      },
      "execution_count": 36,
      "outputs": [
        {
          "output_type": "stream",
          "name": "stdout",
          "text": [
            "Score Description\n",
            "                        count      mean       std  min  25%  50%  75%   max\n",
            "Overall_ESG_SCORE    15644.0  5.143688  2.333357  0.0  3.4  5.3  7.0  10.0\n",
            "Environmental_SCORE  15644.0  5.314977  2.407475  0.0  3.5  5.2  7.0  10.0\n",
            "Social_SCORE         15644.0  4.617483  1.591274  0.0  3.6  4.6  5.6  10.0\n",
            "Governance_SCORE     15644.0  4.789772  1.593041  0.0  3.8  5.0  6.0   9.8 \n",
            "\n",
            "Score Median\n",
            " Overall_ESG_SCORE      5.3\n",
            "Environmental_SCORE    5.2\n",
            "Social_SCORE           4.6\n",
            "Governance_SCORE       5.0\n",
            "dtype: float64 \n",
            "\n",
            "Score Mode\n",
            "                         0\n",
            "Overall_ESG_SCORE     7.0\n",
            "Environmental_SCORE  10.0\n",
            "Social_SCORE          4.6\n",
            "Governance_SCORE      5.3\n"
          ]
        }
      ]
    },
    {
      "cell_type": "code",
      "source": [
        "describe(ESG_Food)"
      ],
      "metadata": {
        "colab": {
          "base_uri": "https://localhost:8080/"
        },
        "id": "tb_ZH6v325OQ",
        "outputId": "3484e91c-5b2d-4665-9db9-707e3bb2b30a"
      },
      "execution_count": 37,
      "outputs": [
        {
          "output_type": "stream",
          "name": "stdout",
          "text": [
            "Score Description\n",
            "                      count      mean       std  min  25%  50%  75%   max\n",
            "Overall_ESG_SCORE    745.0  5.057450  2.322210  0.0  3.2  5.1  7.0  10.0\n",
            "Environmental_SCORE  745.0  3.500268  1.804333  0.0  2.0  3.3  4.6  10.0\n",
            "Social_SCORE         745.0  4.936779  1.157997  1.1  4.2  5.0  5.7   8.5\n",
            "Governance_SCORE     745.0  4.788054  1.497078  0.0  3.7  4.8  5.9   8.3 \n",
            "\n",
            "Score Median\n",
            " Overall_ESG_SCORE      5.1\n",
            "Environmental_SCORE    3.3\n",
            "Social_SCORE           5.0\n",
            "Governance_SCORE       4.8\n",
            "dtype: float64 \n",
            "\n",
            "Score Mode\n",
            "                        0    1\n",
            "Overall_ESG_SCORE    5.7  NaN\n",
            "Environmental_SCORE  2.0  NaN\n",
            "Social_SCORE         5.4  NaN\n",
            "Governance_SCORE     3.8  4.5\n"
          ]
        }
      ]
    },
    {
      "cell_type": "code",
      "source": [
        "describe(ESG_Food_USA)"
      ],
      "metadata": {
        "colab": {
          "base_uri": "https://localhost:8080/"
        },
        "id": "If0H24R729GX",
        "outputId": "0c541728-b02f-4ca7-8c01-2b7e10c457ad"
      },
      "execution_count": 38,
      "outputs": [
        {
          "output_type": "stream",
          "name": "stdout",
          "text": [
            "Score Description\n",
            "                      count      mean       std  min   25%  50%   75%   max\n",
            "Overall_ESG_SCORE    167.0  5.355689  2.214019  0.0  3.85  5.1  7.20  10.0\n",
            "Environmental_SCORE  167.0  3.754491  2.122703  0.0  2.00  3.4  5.35  10.0\n",
            "Social_SCORE         167.0  4.715569  1.131742  2.7  4.00  4.5  5.30   8.5\n",
            "Governance_SCORE     167.0  5.291617  1.127339  1.9  4.50  5.3  6.20   7.6 \n",
            "\n",
            "Score Median\n",
            " Overall_ESG_SCORE      5.1\n",
            "Environmental_SCORE    3.4\n",
            "Social_SCORE           4.5\n",
            "Governance_SCORE       5.3\n",
            "dtype: float64 \n",
            "\n",
            "Score Mode\n",
            "                        0\n",
            "Overall_ESG_SCORE    5.7\n",
            "Environmental_SCORE  4.1\n",
            "Social_SCORE         5.0\n",
            "Governance_SCORE     6.2\n"
          ]
        }
      ]
    },
    {
      "cell_type": "code",
      "source": [
        "describe(ESG_Food_OTH)"
      ],
      "metadata": {
        "colab": {
          "base_uri": "https://localhost:8080/"
        },
        "id": "fOcdfz7e3BER",
        "outputId": "e4aa8ed0-2ffb-49d4-ddca-1d7437cf77f8"
      },
      "execution_count": 39,
      "outputs": [
        {
          "output_type": "stream",
          "name": "stdout",
          "text": [
            "Score Description\n",
            "                      count      mean       std  min    25%  50%  75%   max\n",
            "Overall_ESG_SCORE    578.0  4.971280  2.347343  0.0  3.000  5.1  7.0  10.0\n",
            "Environmental_SCORE  578.0  3.426817  1.696308  0.0  2.025  3.3  4.4   9.6\n",
            "Social_SCORE         578.0  5.000692  1.158586  1.1  4.300  5.1  5.8   8.5\n",
            "Governance_SCORE     578.0  4.642561  1.558747  0.0  3.600  4.5  5.7   8.3 \n",
            "\n",
            "Score Median\n",
            " Overall_ESG_SCORE      5.1\n",
            "Environmental_SCORE    3.3\n",
            "Social_SCORE           5.1\n",
            "Governance_SCORE       4.5\n",
            "dtype: float64 \n",
            "\n",
            "Score Mode\n",
            "                        0\n",
            "Overall_ESG_SCORE    7.0\n",
            "Environmental_SCORE  2.0\n",
            "Social_SCORE         5.4\n",
            "Governance_SCORE     3.8\n"
          ]
        }
      ]
    },
    {
      "cell_type": "markdown",
      "source": [
        "# Hypothesis testing"
      ],
      "metadata": {
        "id": "yy7UDIqxRmiT"
      }
    },
    {
      "cell_type": "code",
      "source": [
        "\n",
        "data = ESG_Food['Overall_ESG_SCORE']\n",
        "data1 = ESG_Food['Environmental_SCORE']\n",
        "data2 = ESG_Food['Social_SCORE']\n",
        "data3 = ESG_Food['Governance_SCORE']"
      ],
      "metadata": {
        "id": "85nG22lobCLN"
      },
      "execution_count": 40,
      "outputs": []
    },
    {
      "cell_type": "code",
      "source": [
        "# Shapiro-Wilk Normality Test\n",
        "# H0 - ESG Food Sector Overall ESG Score data has a Gaussian distribution\n",
        "# H1 - ESG Food Sector Overall ESG Score data is not a Gaussian distribution\n",
        "\n",
        "stat, p = shapiro(data)\n",
        "print('stat=%.3f, p=%.3f' % (stat, p))\n",
        "if p > 0.05:\n",
        "\tprint('Probably Gaussian')\n",
        "else:\n",
        "\tprint('Probably not Gaussian')"
      ],
      "metadata": {
        "colab": {
          "base_uri": "https://localhost:8080/"
        },
        "id": "0TFTe5XPRlkj",
        "outputId": "3a6f4d66-0f7a-4625-a168-31a7a0faa84d"
      },
      "execution_count": 41,
      "outputs": [
        {
          "output_type": "stream",
          "name": "stdout",
          "text": [
            "stat=0.982, p=0.000\n",
            "Probably not Gaussian\n"
          ]
        }
      ]
    },
    {
      "cell_type": "code",
      "source": [
        "# Pearson's Correlation test\n",
        "# H0 - ESG Food Sector data Overall Score is independent of the Environmental Score\n",
        "# H1 - ESG Food Sector data Overall Score has a dependency on the Environmenal Score\n",
        "\n",
        "stat, p = pearsonr(data, data1)\n",
        "print('stat=%.3f, p=%.3f' % (stat, p))\n",
        "if p > 0.05:\n",
        "\tprint('Probably independent')\n",
        "else:\n",
        "\tprint('Probably dependent')"
      ],
      "metadata": {
        "colab": {
          "base_uri": "https://localhost:8080/"
        },
        "id": "c384HNZGV9OX",
        "outputId": "0abd4939-6c2f-475f-8734-a55fcd45ce72"
      },
      "execution_count": 42,
      "outputs": [
        {
          "output_type": "stream",
          "name": "stdout",
          "text": [
            "stat=0.637, p=0.000\n",
            "Probably dependent\n"
          ]
        }
      ]
    },
    {
      "cell_type": "code",
      "source": [
        "# Student's t-test \n",
        "# H0 - ESG Food Sector data Overall Score is independent of the Environmental Score\n",
        "# H1 - ESG Food Sector data Overall Score has a dependency on the Environmenal Score\n",
        "\n",
        "stat, p = ttest_ind(data, data3)\n",
        "print('stat=%.3f, p=%.3f' % (stat, p))\n",
        "if p > 0.05:\n",
        "\tprint('Probably the same distribution')\n",
        "else:\n",
        "\tprint('Probably different distributions')"
      ],
      "metadata": {
        "colab": {
          "base_uri": "https://localhost:8080/"
        },
        "id": "cKshKzt6W_6Z",
        "outputId": "978787e1-6e94-4cb2-e2df-57979da7b534"
      },
      "execution_count": 43,
      "outputs": [
        {
          "output_type": "stream",
          "name": "stdout",
          "text": [
            "stat=2.661, p=0.008\n",
            "Probably different distributions\n"
          ]
        }
      ]
    },
    {
      "cell_type": "code",
      "source": [
        "# ANOVA test\n",
        "\n",
        "stat, p = f_oneway(data1, data2, data3)\n",
        "print('stat=%.3f, p=%.3f' % (stat, p))\n",
        "if p > 0.05:\n",
        "\tprint('Probably the same distribution')\n",
        "else:\n",
        "\tprint('Probably different distributions')"
      ],
      "metadata": {
        "colab": {
          "base_uri": "https://localhost:8080/"
        },
        "id": "YayzpZtlX3Ny",
        "outputId": "dd32d3f4-4266-4744-e64f-38a57c44451b"
      },
      "execution_count": 44,
      "outputs": [
        {
          "output_type": "stream",
          "name": "stdout",
          "text": [
            "stat=203.964, p=0.000\n",
            "Probably different distributions\n"
          ]
        }
      ]
    },
    {
      "cell_type": "markdown",
      "source": [
        "\n",
        "# Histogram Comparison of Scores for Food related sectors"
      ],
      "metadata": {
        "id": "qZgWUVkzH08m"
      }
    },
    {
      "cell_type": "code",
      "source": [
        "# Compare four countries/member organziations\n",
        "def create_histogram_4(plot1_f,DF_1,grp_1,DF_2,grp_2,DF_3,grp_3,DF_4,grp_4):\n",
        "    with plt.style.context((\"seaborn\",\"ggplot\")):\n",
        "        fig = plt.figure(constrained_layout=True, figsize=(10,8))\n",
        "        specs = gridspec.GridSpec(ncols=2, nrows=2, figure=fig) ## Declaring 2x2 figure.\n",
        "\n",
        "        ax1 = fig.add_subplot(specs[0, 0]) ## First Row First Column\n",
        "        ax1.set_xlim([0, 10])\n",
        "        ax2 = fig.add_subplot(specs[0, 1]) ## First Row Second Column\n",
        "        ax2.set_xlim([0, 10])\n",
        "        ax3 = fig.add_subplot(specs[1, 0]) ## Second Row First Column\n",
        "        ax3.set_xlim([0, 10])\n",
        "        ax4 = fig.add_subplot(specs[1, 1]) ## Second Row Second Colums\n",
        "        ax4.set_xlim([0, 10])\n",
        "\n",
        "        ## First Graph - Histogram\n",
        "        ax1.hist(DF_1[plot1_f], color=\"tab:red\", )\n",
        "        ax1.set_xlabel(plot1_f)\n",
        "        ax1.set_ylabel('Frequency')\n",
        "        ax1.set_title(grp_1)\n",
        "\n",
        "        ## Second Graph - Histogram\n",
        "        ax2.hist(DF_2[plot1_f], color=\"tab:green\", )\n",
        "        ax2.set_xlabel(plot1_f)\n",
        "        ax2.set_ylabel('Frequency')\n",
        "        ax2.set_title(grp_2)\n",
        "\n",
        "        ## Third Graph - Histogram\n",
        "        ax3.hist(DF_3[plot1_f], color=\"tab:blue\", )\n",
        "        ax3.set_xlabel(plot1_f)\n",
        "        ax3.set_ylabel('Frequency')\n",
        "        ax3.set_title(grp_3)\n",
        "\n",
        "        ## Fourth Graph - Histogram\n",
        "        ax4.hist(DF_4[plot1_f], color=\"tab:orange\", )\n",
        "        ax4.set_xlabel(plot1_f)\n",
        "        ax4.set_ylabel('Frequency')\n",
        "        ax4.set_title(grp_4)\n",
        "\n",
        "        plt.close(fig)\n",
        "        return fig"
      ],
      "metadata": {
        "id": "lf-orlAoNskv"
      },
      "execution_count": 49,
      "outputs": []
    },
    {
      "cell_type": "code",
      "source": [
        "create_histogram_4('Overall_ESG_SCORE',ESG_All,'All Companies/All Sectors',ESG_Food,'All Companies/Food Related Sectors',ESG_Food_USA,'US Companies/Food Related Sectors',ESG_Food_OTH,'non-US Companies/Food Related Sectors')"
      ],
      "metadata": {
        "colab": {
          "base_uri": "https://localhost:8080/",
          "height": 601
        },
        "id": "Phf-3jSUOCgw",
        "outputId": "6e01ea8b-a9fb-45de-acc5-1b8d7562378d"
      },
      "execution_count": 50,
      "outputs": [
        {
          "output_type": "execute_result",
          "data": {
            "text/plain": [
              "<Figure size 720x576 with 4 Axes>"
            ],
            "image/png": "[encoded data removed]"
          },
          "metadata": {},
          "execution_count": 50
        }
      ]
    },
    {
      "cell_type": "code",
      "source": [
        "create_histogram_4('Environmental_SCORE',ESG_All,'All Companies/All Sectors',ESG_Food,'All Companies/Food Related Sectors',ESG_Food_USA,'US Companies/Food Related Sectors',ESG_Food_OTH,'non-US Companies/Food Related Sectors')"
      ],
      "metadata": {
        "colab": {
          "base_uri": "https://localhost:8080/",
          "height": 601
        },
        "id": "WapLHWek_sq_",
        "outputId": "f3d35ee4-e559-4331-85d6-3980d2ffbb27"
      },
      "execution_count": 51,
      "outputs": [
        {
          "output_type": "execute_result",
          "data": {
            "text/plain": [
              "<Figure size 720x576 with 4 Axes>"
            ],
            "image/png": "[encoded data removed]"
          },
          "metadata": {},
          "execution_count": 51
        }
      ]
    },
    {
      "cell_type": "code",
      "source": [
        "create_histogram_4('Social_SCORE',ESG_All,'All Companies/All Sectors',ESG_Food,'All Companies/Food Related Sectors',ESG_Food_USA,'US Companies/Food Related Sectors',ESG_Food_OTH,'non-US Companies/Food Related Sectors')"
      ],
      "metadata": {
        "colab": {
          "base_uri": "https://localhost:8080/",
          "height": 601
        },
        "id": "3ubuddfB_sf7",
        "outputId": "0ca68d87-b3c2-45f9-f751-36bdcfac74ed"
      },
      "execution_count": 52,
      "outputs": [
        {
          "output_type": "execute_result",
          "data": {
            "text/plain": [
              "<Figure size 720x576 with 4 Axes>"
            ],
            "image/png": "[encoded data removed]"
          },
          "metadata": {},
          "execution_count": 52
        }
      ]
    },
    {
      "cell_type": "code",
      "source": [
        "create_histogram_4('Governance_SCORE',ESG_All,'All Sectors',ESG_Food,'Food Related Sectors',ESG_Food_USA,'US Food Related Sectors',ESG_Food_OTH,'non-US Food Related Sectors')"
      ],
      "metadata": {
        "colab": {
          "base_uri": "https://localhost:8080/",
          "height": 601
        },
        "id": "6rKi9g7d_sNA",
        "outputId": "95e10b14-bf8d-4ea3-cd87-3478b1250aa6"
      },
      "execution_count": 53,
      "outputs": [
        {
          "output_type": "execute_result",
          "data": {
            "text/plain": [
              "<Figure size 720x576 with 4 Axes>"
            ],
            "image/png": "[encoded data removed]"
          },
          "metadata": {},
          "execution_count": 53
        }
      ]
    },
    {
      "cell_type": "markdown",
      "source": [
        "How does overall compare to combined?"
      ],
      "metadata": {
        "id": "r_nJCLm7TM4m"
      }
    },
    {
      "cell_type": "markdown",
      "source": [
        "# Line Graphs Comparisons for Food related Sectors"
      ],
      "metadata": {
        "id": "B4uxzByxIZyR"
      }
    },
    {
      "cell_type": "code",
      "source": [
        "def create_line_charts_4(t_1,grp_1,t_2,grp_2,t_3,grp_3,t_4,grp_4):\n",
        "    with plt.style.context((\"seaborn\",\"ggplot\")):\n",
        "        fig = plt.figure(constrained_layout=True, figsize=(10,8))\n",
        "        specs = gridspec.GridSpec(ncols=2, nrows=2, figure=fig) ## Declaring 2x2 figure.\n",
        "\n",
        "        ax1 = fig.add_subplot(specs[0, 0]) ## First Row First Column\n",
        "        ax2 = fig.add_subplot(specs[0, 1]) ## First Row Second Column\n",
        "        ax3 = fig.add_subplot(specs[1, 0]) ## Second Row First Column\n",
        "        ax4 = fig.add_subplot(specs[1, 1]) ## Second Row Second Colums\n",
        "\n",
        "        ## First Graph - Line Graph\n",
        "        AVG_GRP_1 = grp_1.groupby(['Rating_list','Overall_ESG_RATING']).agg(\n",
        "        Mean_Overall=('Overall_ESG_SCORE', np.mean),\n",
        "        Mean_Environmental=('Environmental_SCORE', np.mean),\n",
        "        Mean_Social=('Social_SCORE', np.mean),    \n",
        "        Mean_Governance=('Governance_SCORE', np.mean))\n",
        "        AVG_GRP_1 = AVG_GRP_1.add_suffix('_Score').reset_index()\n",
        "        AVG_GRP_1_sorted = AVG_GRP_1.sort_values('Rating_list', ascending=False)\n",
        "        AVG_GRP_1_sorted.plot(kind='line',x='Overall_ESG_RATING',y='Mean_Overall_Score', color='black', linestyle='dashed', title = t_1, linewidth=1, ax=ax1)\n",
        "        AVG_GRP_1_sorted.plot(kind='line',x='Overall_ESG_RATING',y='Mean_Environmental_Score', color='red', ax=ax1)\n",
        "        AVG_GRP_1_sorted.plot(kind='line',x='Overall_ESG_RATING',y='Mean_Social_Score', color='green', ax=ax1)\n",
        "        AVG_GRP_1_sorted.plot(kind='line',x='Overall_ESG_RATING',y='Mean_Governance_Score', color='blue', ax=ax1)\n",
        "\n",
        "        ## Second Graph - Line Graph\n",
        "        AVG_GRP_2 = grp_2.groupby(['Rating_list','Overall_ESG_RATING']).agg(\n",
        "        Mean_Overall=('Overall_ESG_SCORE', np.mean),\n",
        "        Mean_Environmental=('Environmental_SCORE', np.mean),\n",
        "        Mean_Social=('Social_SCORE', np.mean),    \n",
        "        Mean_Governance=('Governance_SCORE', np.mean))\n",
        "        AVG_GRP_2 = AVG_GRP_2.add_suffix('_Score').reset_index()\n",
        "        AVG_GRP_2_sorted = AVG_GRP_2.sort_values('Rating_list', ascending=False)\n",
        "        AVG_GRP_2_sorted.plot(kind='line',x='Overall_ESG_RATING',y='Mean_Overall_Score', color='black', linestyle='dashed', title = t_2, linewidth=1, ax=ax2)\n",
        "        AVG_GRP_2_sorted.plot(kind='line',x='Overall_ESG_RATING',y='Mean_Environmental_Score', color='red', ax=ax2)\n",
        "        AVG_GRP_2_sorted.plot(kind='line',x='Overall_ESG_RATING',y='Mean_Social_Score', color='green', ax=ax2)\n",
        "        AVG_GRP_2_sorted.plot(kind='line',x='Overall_ESG_RATING',y='Mean_Governance_Score', color='blue', ax=ax2)\n",
        "\n",
        "        ## Third Graph - Line Graph\n",
        "        AVG_GRP_3 = grp_3.groupby(['Rating_list','Overall_ESG_RATING']).agg(\n",
        "        Mean_Overall=('Overall_ESG_SCORE', np.mean),\n",
        "        Mean_Environmental=('Environmental_SCORE', np.mean),\n",
        "        Mean_Social=('Social_SCORE', np.mean),    \n",
        "        Mean_Governance=('Governance_SCORE', np.mean))\n",
        "        AVG_GRP_3 = AVG_GRP_3.add_suffix('_Score').reset_index()\n",
        "        AVG_GRP_3_sorted = AVG_GRP_3.sort_values('Rating_list', ascending=False)\n",
        "        AVG_GRP_3_sorted.plot(kind='line',x='Overall_ESG_RATING',y='Mean_Overall_Score', color='black', linestyle='dashed', title = t_3, linewidth=1, ax=ax3)\n",
        "        AVG_GRP_3_sorted.plot(kind='line',x='Overall_ESG_RATING',y='Mean_Environmental_Score', color='red', ax=ax3)\n",
        "        AVG_GRP_3_sorted.plot(kind='line',x='Overall_ESG_RATING',y='Mean_Social_Score', color='green', ax=ax3)\n",
        "        AVG_GRP_3_sorted.plot(kind='line',x='Overall_ESG_RATING',y='Mean_Governance_Score', color='blue', ax=ax3)\n",
        "\n",
        "        ## Fourth Graph - Line Graph\n",
        "        AVG_GRP_4 = grp_4.groupby(['Rating_list','Overall_ESG_RATING']).agg(\n",
        "        Mean_Overall=('Overall_ESG_SCORE', np.mean),\n",
        "        Mean_Environmental=('Environmental_SCORE', np.mean),\n",
        "        Mean_Social=('Social_SCORE', np.mean),    \n",
        "        Mean_Governance=('Governance_SCORE', np.mean))\n",
        "        AVG_GRP_4 = AVG_GRP_4.add_suffix('_Score').reset_index()\n",
        "        AVG_GRP_4_sorted = AVG_GRP_4.sort_values('Rating_list', ascending=False)\n",
        "        AVG_GRP_4_sorted.plot(kind='line',x='Overall_ESG_RATING',y='Mean_Overall_Score', color='black', linestyle='dashed', title = t_4, linewidth=1, ax=ax4)\n",
        "        AVG_GRP_4_sorted.plot(kind='line',x='Overall_ESG_RATING',y='Mean_Environmental_Score', color='red', ax=ax4)\n",
        "        AVG_GRP_4_sorted.plot(kind='line',x='Overall_ESG_RATING',y='Mean_Social_Score', color='green', ax=ax4)\n",
        "        AVG_GRP_4_sorted.plot(kind='line',x='Overall_ESG_RATING',y='Mean_Governance_Score', color='blue', ax=ax4)\n",
        "        \n",
        "        plt.close(fig)\n",
        "        return fig"
      ],
      "metadata": {
        "id": "QpDFUCAdDEMp"
      },
      "execution_count": 54,
      "outputs": []
    },
    {
      "cell_type": "code",
      "source": [
        "create_line_charts_4('All Compaines/All Sectors',ESG_All,'All Compaines/Food Sectors',ESG_Food,'US Companies/Food Sectors', ESG_Food_USA,'non-US Companies/Food Sectors', ESG_Food_OTH)"
      ],
      "metadata": {
        "colab": {
          "base_uri": "https://localhost:8080/",
          "height": 601
        },
        "id": "hdffyjpRwu5b",
        "outputId": "fbea2b76-0439-4fe6-807a-4738c16691b3"
      },
      "execution_count": 55,
      "outputs": [
        {
          "output_type": "execute_result",
          "data": {
            "text/plain": [
              "<Figure size 720x576 with 4 Axes>"
            ],
            "image/png": "[encoded data removed]"
          },
          "metadata": {},
          "execution_count": 55
        }
      ]
    },
    {
      "cell_type": "markdown",
      "source": [
        "# Predictive Modeling\n",
        "## Section 1 - Test for best model to predict Overall ESG Rating using Environmental, Social, and Governance scores.\n",
        "## Section 2 - Test for best model to predict Overall ESG Rating using Environmental, Social, and Governance scores for companies in one of the food sectors."
      ],
      "metadata": {
        "id": "jI42J1z0R5O_"
      }
    },
    {
      "cell_type": "code",
      "source": [
        "ESG_ML = ESG_CC[['Rating_list','Overall_ESG_RATING','Overall_ESG_SCORE','Environmental_SCORE','Social_SCORE', 'Governance_SCORE']]\n",
        "ESG_ML.columns = ['Rating_list','Rating', 'Overall_ESG', 'Environmental', 'Social', 'Governance']\n",
        "ESG_ML = ESG_ML.sort_values('Rating_list', ascending=True)\n",
        "print(ESG_ML.head(2))"
      ],
      "metadata": {
        "colab": {
          "base_uri": "https://localhost:8080/"
        },
        "id": "3QRq3UdWM-2w",
        "outputId": "6f756ac4-8b13-4ef4-e149-ea44fd8e935f"
      },
      "execution_count": 56,
      "outputs": [
        {
          "output_type": "stream",
          "name": "stdout",
          "text": [
            "     Rating_list Rating  Overall_ESG  Environmental  Social  Governance\n",
            "9642           1    AAA         10.0            9.9     6.3         5.0\n",
            "8534           1    AAA         10.0            8.9     7.3         8.0\n"
          ]
        }
      ]
    },
    {
      "cell_type": "markdown",
      "source": [
        "### Section 1 - All companies / All Sectors\n",
        "\n",
        "**Test models to see which is the best predictor using all three scores (Environmental, Social and Governance) to predict Rating**"
      ],
      "metadata": {
        "id": "1eq1Mg2LUHvI"
      }
    },
    {
      "cell_type": "code",
      "source": [
        "# Split-out validation dataset\n",
        "array = ESG_ML.values\n",
        "X = array[:,3:]\n",
        "y = array[:,1]\n",
        "X_train, X_validation, Y_train, Y_validation = train_test_split(X, y, test_size=0.20, random_state=24, shuffle=True)\n",
        "# Spot Check Algorithms\n",
        "models = []\n",
        "models.append(('LR', LogisticRegression(solver='liblinear', multi_class='ovr')))\n",
        "models.append(('LDA', LinearDiscriminantAnalysis()))\n",
        "models.append(('KNN', KNeighborsClassifier()))\n",
        "models.append(('CART', DecisionTreeClassifier()))\n",
        "models.append(('NB', GaussianNB()))\n",
        "models.append(('SVM', SVC(gamma='auto')))\n",
        "# evaluate each model in turn\n",
        "results = []\n",
        "names = []\n",
        "for name, model in models:\n",
        "\tkfold = StratifiedKFold(n_splits=10, random_state=1, shuffle=True)\n",
        "\tcv_results = cross_val_score(model, X_train, Y_train, cv=kfold, scoring='accuracy')\n",
        "\tresults.append(cv_results)\n",
        "\tnames.append(name)\n",
        "\tprint('%s: %f (%f)' % (name, cv_results.mean(), cv_results.std()))\n",
        "# Compare Algorithms\n",
        "plt.boxplot(results, labels=names)\n",
        "plt.title('Algorithm Comparison')"
      ],
      "metadata": {
        "colab": {
          "base_uri": "https://localhost:8080/",
          "height": 409
        },
        "id": "-PZMW7SjTiBA",
        "outputId": "88a8d5fa-9605-49ea-b358-9a85165efd0e"
      },
      "execution_count": 57,
      "outputs": [
        {
          "output_type": "stream",
          "name": "stdout",
          "text": [
            "LR: 0.446184 (0.016778)\n",
            "LDA: 0.460567 (0.011676)\n",
            "KNN: 0.584658 (0.013150)\n",
            "CART: 0.685419 (0.014128)\n",
            "NB: 0.451220 (0.013318)\n",
            "SVM: 0.499559 (0.009688)\n"
          ]
        },
        {
          "output_type": "execute_result",
          "data": {
            "text/plain": [
              "Text(0.5, 1.0, 'Algorithm Comparison')"
            ]
          },
          "metadata": {},
          "execution_count": 57
        },
        {
          "output_type": "display_data",
          "data": {
            "text/plain": [
              "<Figure size 432x288 with 1 Axes>"
            ],
            "image/png": "[encoded data removed]"
          },
          "metadata": {
            "needs_background": "light"
          }
        }
      ]
    },
    {
      "cell_type": "code",
      "source": [
        "# Make predictions on validation dataset\n",
        "model = DecisionTreeClassifier()\n",
        "model.fit(X_train, Y_train)\n",
        "predictions = model.predict(X_validation)\n",
        "# Evaluate predictions\n",
        "print(accuracy_score(Y_validation, predictions))\n",
        "print(confusion_matrix(Y_validation, predictions))\n",
        "print(classification_report(Y_validation, predictions))"
      ],
      "metadata": {
        "id": "Ui4vIuMiDEBh",
        "colab": {
          "base_uri": "https://localhost:8080/"
        },
        "outputId": "dad04759-eae9-4b17-a349-580d50240181"
      },
      "execution_count": 58,
      "outputs": [
        {
          "output_type": "stream",
          "name": "stdout",
          "text": [
            "0.6845637583892618\n",
            "[[489  60   7  12  26  65   1]\n",
            " [ 66 396  19   4   6  27   0]\n",
            " [  6  14  99   0   1   2   0]\n",
            " [ 12   4   0 239  87  41  31]\n",
            " [ 33   7   0  85 383  68  12]\n",
            " [ 76  32   1  32  88 437   1]\n",
            " [  0   0   0  28  23  10  99]]\n",
            "              precision    recall  f1-score   support\n",
            "\n",
            "           A       0.72      0.74      0.73       660\n",
            "          AA       0.77      0.76      0.77       518\n",
            "         AAA       0.79      0.81      0.80       122\n",
            "           B       0.60      0.58      0.59       414\n",
            "          BB       0.62      0.65      0.64       588\n",
            "         BBB       0.67      0.66      0.66       667\n",
            "         CCC       0.69      0.62      0.65       160\n",
            "\n",
            "    accuracy                           0.68      3129\n",
            "   macro avg       0.69      0.69      0.69      3129\n",
            "weighted avg       0.68      0.68      0.68      3129\n",
            "\n"
          ]
        }
      ]
    },
    {
      "cell_type": "markdown",
      "source": [
        "### Section 2 - Predictibility for companies in food related sectors\n",
        "\n",
        "**Test models to see which is the best predictor using all three scores (Environmental, Social and Governance) to predict Rating in companies related to the food sector**"
      ],
      "metadata": {
        "id": "lQ9uFD6MZmQr"
      }
    },
    {
      "cell_type": "code",
      "source": [
        "ESG_Food_ML = ESG_Food[['Rating_list','Overall_ESG_RATING','Overall_ESG_SCORE','Environmental_SCORE','Social_SCORE', 'Governance_SCORE']]\n",
        "ESG_Food_ML.columns = ['Rating_list','Rating', 'Overall_ESG', 'Environmental', 'Social', 'Governance']\n",
        "ESG_FOOD_ML = ESG_Food_ML.sort_values('Rating_list', ascending=True)\n",
        "print(ESG_Food_ML.head(2))"
      ],
      "metadata": {
        "colab": {
          "base_uri": "https://localhost:8080/"
        },
        "id": "UxTKh1c1Y71e",
        "outputId": "cb674d48-232b-440a-b49c-7ad6b868e218"
      },
      "execution_count": 59,
      "outputs": [
        {
          "output_type": "stream",
          "name": "stdout",
          "text": [
            "     Rating_list Rating  Overall_ESG  Environmental  Social  Governance\n",
            "2180           1    AAA         10.0            6.0     5.0         7.1\n",
            "6927           1    AAA         10.0            7.8     8.5         6.9\n"
          ]
        }
      ]
    },
    {
      "cell_type": "code",
      "source": [
        "# Split-out validation dataset\n",
        "array = ESG_Food_ML.values\n",
        "X = array[:,3:]\n",
        "y = array[:,1]\n",
        "X_train, X_validation, Y_train, Y_validation = train_test_split(X, y, test_size=0.20, random_state=24, shuffle=True)\n",
        "# Spot Check Algorithms\n",
        "models = []\n",
        "models.append(('LR', LogisticRegression(solver='liblinear', multi_class='ovr')))\n",
        "models.append(('LDA', LinearDiscriminantAnalysis()))\n",
        "models.append(('KNN', KNeighborsClassifier()))\n",
        "models.append(('CART', DecisionTreeClassifier()))\n",
        "models.append(('NB', GaussianNB()))\n",
        "models.append(('SVM', SVC(gamma='auto')))\n",
        "# evaluate each model in turn\n",
        "results = []\n",
        "names = []\n",
        "for name, model in models:\n",
        "\tkfold = StratifiedKFold(n_splits=10, random_state=1, shuffle=True)\n",
        "\tcv_results = cross_val_score(model, X_train, Y_train, cv=kfold, scoring='accuracy')\n",
        "\tresults.append(cv_results)\n",
        "\tnames.append(name)\n",
        "\tprint('%s: %f (%f)' % (name, cv_results.mean(), cv_results.std()))\n",
        "# Compare Algorithms\n",
        "plt.boxplot(results, labels=names)\n",
        "plt.title('Algorithm Comparison')"
      ],
      "metadata": {
        "colab": {
          "base_uri": "https://localhost:8080/",
          "height": 409
        },
        "id": "DqGXczXJY7kY",
        "outputId": "46987676-fa99-4763-d2ce-e7aaaacf8560"
      },
      "execution_count": 60,
      "outputs": [
        {
          "output_type": "stream",
          "name": "stdout",
          "text": [
            "LR: 0.461638 (0.055736)\n",
            "LDA: 0.609096 (0.047246)\n",
            "KNN: 0.617429 (0.053858)\n",
            "CART: 0.640876 (0.034235)\n",
            "NB: 0.526893 (0.042670)\n",
            "SVM: 0.639322 (0.052414)\n"
          ]
        },
        {
          "output_type": "execute_result",
          "data": {
            "text/plain": [
              "Text(0.5, 1.0, 'Algorithm Comparison')"
            ]
          },
          "metadata": {},
          "execution_count": 60
        },
        {
          "output_type": "display_data",
          "data": {
            "text/plain": [
              "<Figure size 432x288 with 1 Axes>"
            ],
            "image/png": "[encoded data removed]"
          },
          "metadata": {
            "needs_background": "light"
          }
        }
      ]
    },
    {
      "cell_type": "code",
      "source": [
        "# Make predictions on validation dataset\n",
        "model = DecisionTreeClassifier()\n",
        "model.fit(X_train, Y_train)\n",
        "predictions = model.predict(X_validation)\n",
        "# Evaluate predictions\n",
        "print(accuracy_score(Y_validation, predictions))\n",
        "print(confusion_matrix(Y_validation, predictions))\n",
        "print(classification_report(Y_validation, predictions))"
      ],
      "metadata": {
        "colab": {
          "base_uri": "https://localhost:8080/"
        },
        "id": "ClejYtBAZC0-",
        "outputId": "9edb4de4-cb9a-443f-926b-58fcc635d749"
      },
      "execution_count": 61,
      "outputs": [
        {
          "output_type": "stream",
          "name": "stdout",
          "text": [
            "0.5973154362416108\n",
            "[[13  6  0  0  1  9  0]\n",
            " [ 4 26  1  0  0  0  0]\n",
            " [ 0  1  3  0  0  0  0]\n",
            " [ 0  0  0 16  6  3  6]\n",
            " [ 0  0  0  4 13  5  0]\n",
            " [ 2  2  0  1  6 17  1]\n",
            " [ 0  0  0  2  0  0  1]]\n",
            "              precision    recall  f1-score   support\n",
            "\n",
            "           A       0.68      0.45      0.54        29\n",
            "          AA       0.74      0.84      0.79        31\n",
            "         AAA       0.75      0.75      0.75         4\n",
            "           B       0.70      0.52      0.59        31\n",
            "          BB       0.50      0.59      0.54        22\n",
            "         BBB       0.50      0.59      0.54        29\n",
            "         CCC       0.12      0.33      0.18         3\n",
            "\n",
            "    accuracy                           0.60       149\n",
            "   macro avg       0.57      0.58      0.56       149\n",
            "weighted avg       0.63      0.60      0.60       149\n",
            "\n"
          ]
        }
      ]
    }
  ]
}